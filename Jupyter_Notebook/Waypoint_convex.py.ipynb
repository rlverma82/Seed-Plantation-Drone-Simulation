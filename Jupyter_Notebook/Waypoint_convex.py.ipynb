{
 "cells": [
  {
   "cell_type": "markdown",
   "metadata": {},
   "source": [
    "# waypoint_convex.py\n",
    "\n",
    "In this algorithm we try to fit a larger square on a convex structure and then traverse along the sides of the square in a zic- zac manner and while traversing check if the point lies within the convex structure or not. \n",
    "If it lies within the convex structure we add the point in our output file. \n",
    "Finally printing the output file."
   ]
  },
  {
   "cell_type": "markdown",
   "metadata": {},
   "source": [
    "### importing headers"
   ]
  },
  {
   "cell_type": "code",
   "execution_count": null,
   "metadata": {},
   "outputs": [],
   "source": [
    "from __future__ import print_function\n",
    "import math\n",
    "import numpy as np\n",
    "import os\n",
    "from shapely.geometry import Point\n",
    "from shapely.geometry.polygon import Polygon\n",
    "np.set_printoptions(precision=12)"
   ]
  },
  {
   "cell_type": "markdown",
   "metadata": {},
   "source": [
    "### Custom Class for taking lat/lon points\n",
    "\n",
    "LAT_LON class takes two parameters x and y and save them as lon and lat variables of the class object."
   ]
  },
  {
   "cell_type": "code",
   "execution_count": null,
   "metadata": {},
   "outputs": [],
   "source": [
    "class LAT_LON:\n",
    "\tdef __init__(self,x,y):\n",
    "\t\tself.lon = x\n",
    "\t\tself.lat = y"
   ]
  },
  {
   "cell_type": "markdown",
   "metadata": {},
   "source": [
    "## Functions used: "
   ]
  },
  {
   "cell_type": "markdown",
   "metadata": {},
   "source": [
    "### 1. calNewGeoLocationNE(initialPOINT, yNORTH, xEAST):\n",
    "\n",
    "This function is used to calculate new GEO Point which is 'y' meters north and 'x' meters east of a Reference point.\n",
    "\n",
    "Knowing the lat/long of reference point and y and x distance , it returns a POINT class object with new location lat/long value.\n",
    "\n",
    "This function is an approximation therefore valid over small distances (1m to 1km). It is not valid when calculating points close to the earth poles."
   ]
  },
  {
   "cell_type": "code",
   "execution_count": 1,
   "metadata": {},
   "outputs": [],
   "source": [
    "def calNewGeoLocationNE(initialPOINT, yNORTH, xEAST):\n",
    "    \n",
    "\t#Radius of earth\n",
    "\tearthRad=6378137.0\n",
    "\n",
    "\t#New point offset calculated in radian\n",
    "\ttempLAT = yNORTH/earthRad\n",
    "\ttempLON = xEAST/(earthRad*math.cos(math.pi*initialPOINT.lat/180))\n",
    "\n",
    "\t#Now calculate the new point in decimal degrees\n",
    "\tfinalLAT = initialPOINT.lat + (tempLAT * 180/math.pi)\n",
    "\tfinalLON = initialPOINT.lon + (tempLON * 180/math.pi)\n",
    "\tfinalLOCATION = LAT_LON(finalLON,finalLAT)\n",
    "\treturn finalLOCATION"
   ]
  },
  {
   "cell_type": "markdown",
   "metadata": {},
   "source": [
    "### 2. distanceBetweenTwoGeoPoints(locPOINT1, locPOINT2):\n",
    "\n",
    "This function calulates the ground distance between two points.\n",
    "\n",
    "This function is a approximation therefore valid for only short distance. "
   ]
  },
  {
   "cell_type": "code",
   "execution_count": 2,
   "metadata": {},
   "outputs": [],
   "source": [
    "def distanceBetweenTwoGeoPoints(locPOINT1, locPOINT2):\n",
    "\n",
    "\tdisLatitude = locPOINT2.lat - locPOINT1.lat\n",
    "\tdisLongitude = locPOINT2.lon - locPOINT1.lon\n",
    "\treturn math.sqrt((disLatitude*disLatitude) + (disLongitude*disLongitude)) * 1.113195e5"
   ]
  },
  {
   "cell_type": "markdown",
   "metadata": {},
   "source": [
    "### 3. def generate_points(start_point,edge_size,seed_distance,polygon_hull)\n",
    "\n",
    "This function calculates the waypoints in a spiral manner for plantation of seeds in a convex field.\n",
    "\t\n",
    "    Input: \n",
    "\t\tstart_point: location of starting point of fitted square in lat/lon\n",
    "\t\tedge_size: side length of square fitted on convex  figure\n",
    "\t\tseed_distance: distance between two waypoints or seed plantation distance\n",
    "        polygon_hull: A shapely Polygon object that contains the  actual convex figure\n",
    "\t\n",
    "    Output:\n",
    "\t\tA txt file named:  waypoint_convex.txt, stores the waypoints generated in a sequence. "
   ]
  },
  {
   "cell_type": "markdown",
   "metadata": {},
   "source": [
    "#### Opening the output file for writing purpose and checking if the initial point lies within the convex structure, if so add it to the output file as seed must be thrown on this spot.  "
   ]
  },
  {
   "cell_type": "code",
   "execution_count": 4,
   "metadata": {},
   "outputs": [],
   "source": [
    "def generate_points(start_point,edge_size,seed_distance,polygon_hull):\n",
    "\n",
    "\toutput_file = open(\"waypoint_convex.txt\",\"w+\")\n",
    "\tfunc_tempVar1 = start_point\n",
    "\tshapely_tempVar1 = Point(func_tempVar1.lon,func_tempVar1.lat)\n",
    "\tif (polygon_hull.contains(shapely_tempVar1) or shapely_tempVar1.within(polygon_hull) or polygon_hull.touches(shapely_tempVar1) ):\n",
    "\t\toutput_file.write(str(func_tempVar1.lat) + \",\" + str(func_tempVar1.lon) + '\\n')"
   ]
  },
  {
   "cell_type": "markdown",
   "metadata": {},
   "source": [
    "#### Adjusting the step size which is the number of jumps required to cover one side of the square."
   ]
  },
  {
   "cell_type": "code",
   "execution_count": null,
   "metadata": {},
   "outputs": [],
   "source": [
    "\tstep_size = edge_size/seed_distance"
   ]
  },
  {
   "cell_type": "markdown",
   "metadata": {},
   "source": [
    "#### Outer for loop moves us in horizontal direction i.e left - right.\n",
    "Here we move only halfway the stepsize as we have two inner loops which traverse from bottom-top and top-bottom."
   ]
  },
  {
   "cell_type": "code",
   "execution_count": null,
   "metadata": {},
   "outputs": [],
   "source": [
    "\tfor i in range (step_size/2):\n",
    "\t\tfunc_tempVar2 = func_tempVar1"
   ]
  },
  {
   "cell_type": "markdown",
   "metadata": {},
   "source": [
    "#### Inner for loop 1. it moves us from bottom-top.\n",
    "As we move from bottom to top we simultaniously check if the points lie within the convex structure if so we add them in our output file."
   ]
  },
  {
   "cell_type": "code",
   "execution_count": null,
   "metadata": {},
   "outputs": [],
   "source": [
    "\t\tfor j in range(step_size):\n",
    "\t\t\tfunc_newpoint = calNewGeoLocationNE(func_tempVar2, seed_distance, 0)\n",
    "\t\t\tfunc_tempVar2 = func_newpoint\n",
    "\t\t\tshapely_tempVar1 = Point(func_tempVar2.lon,func_tempVar2.lat)\n",
    "\t\t\tif (polygon_hull.contains(shapely_tempVar1) or shapely_tempVar1.within(polygon_hull) or polygon_hull.touches(shapely_tempVar1) ):\n",
    "\t\t\t\toutput_file.write(str(func_tempVar2.lat) + \",\" + str(func_tempVar2.lon) + '\\n')"
   ]
  },
  {
   "cell_type": "markdown",
   "metadata": {},
   "source": [
    "#### Right shift operation is done here.\n",
    "Here we make a move to the right and check if the point lies inside or not. "
   ]
  },
  {
   "cell_type": "code",
   "execution_count": null,
   "metadata": {},
   "outputs": [],
   "source": [
    "\t\tfunc_shift1 = calNewGeoLocationNE(func_tempVar2, 0, seed_distance)\n",
    "\t\tfunc_tempVar2 = func_shift1\n",
    "\t\tshapely_tempVar1 = Point(func_tempVar2.lon,func_tempVar2.lat)\n",
    "\t\tif (polygon_hull.contains(shapely_tempVar1) or shapely_tempVar1.within(polygon_hull) or polygon_hull.touches(shapely_tempVar1) ):\n",
    "\t\t\toutput_file.write(str(func_tempVar2.lat) + \",\" + str(func_tempVar2.lon) + '\\n')"
   ]
  },
  {
   "cell_type": "markdown",
   "metadata": {},
   "source": [
    "#### Inner loop 2. here the movement is top-bottom\n",
    "As we move from top to bottom we simultaniously check if the points lie within the convex structure if so we add them in our output file."
   ]
  },
  {
   "cell_type": "code",
   "execution_count": null,
   "metadata": {},
   "outputs": [],
   "source": [
    "\t\tfor j in range(step_size):\n",
    "\t\t\tfunc_newpoint = calNewGeoLocationNE(func_tempVar2, -seed_distance, 0)\n",
    "\t\t\tfunc_tempVar2 = func_newpoint\n",
    "\t\t\tshapely_tempVar1 = Point(func_tempVar2.lon,func_tempVar2.lat)\n",
    "\t\t\tif (polygon_hull.contains(shapely_tempVar1) or shapely_tempVar1.within(polygon_hull) or polygon_hull.touches(shapely_tempVar1) ):\n",
    "\t\t\t\toutput_file.write(str(func_tempVar2.lat) + \",\" + str(func_tempVar2.lon) + '\\n')"
   ]
  },
  {
   "cell_type": "markdown",
   "metadata": {},
   "source": [
    "#### Right shift operation is done here.\n",
    "Here we make a move to the right and check if the point lies inside or not."
   ]
  },
  {
   "cell_type": "code",
   "execution_count": null,
   "metadata": {},
   "outputs": [],
   "source": [
    "\t\tfunc_shift2 = calNewGeoLocationNE(func_tempVar2, 0, seed_distance)\n",
    "\t\tfunc_tempVar1 = func_shift2\n",
    "\t\tshapely_tempVar1 = Point(func_tempVar1.lon,func_tempVar1.lat)\n",
    "\t\tif (polygon_hull.contains(shapely_tempVar1) or shapely_tempVar1.within(polygon_hull) or polygon_hull.touches(shapely_tempVar1) ):\n",
    "\t\t\toutput_file.write(str(func_tempVar1.lat) + \",\" + str(func_tempVar1.lon) + '\\n')"
   ]
  },
  {
   "cell_type": "markdown",
   "metadata": {},
   "source": [
    "#### This loop computes the last waypoints along the last boundary of the convex structure."
   ]
  },
  {
   "cell_type": "markdown",
   "metadata": {},
   "source": [
    "In the above loops we move up-right-down-right. If we continue to move this way we will miss the last boundary of our square fitting our convex structure. So this loop does that for us.                           "
   ]
  },
  {
   "cell_type": "code",
   "execution_count": null,
   "metadata": {},
   "outputs": [],
   "source": [
    "\tfor j in range(step_size):\n",
    "\t\tfunc_newpoint = calNewGeoLocationNE(func_tempVar1, seed_distance, 0)\n",
    "\t\tfunc_tempVar1 = func_newpoint\n",
    "\t\tshapely_tempVar1 = Point(func_tempVar1.lon,func_tempVar1.lat)\n",
    "\t\tif (polygon_hull.contains(shapely_tempVar1) or shapely_tempVar1.within(polygon_hull) or polygon_hull.touches(shapely_tempVar1) ):\n",
    "\t\t\toutput_file.write(str(func_tempVar1.lat) + \",\" + str(func_tempVar1.lon) + '\\n')"
   ]
  },
  {
   "cell_type": "markdown",
   "metadata": {},
   "source": [
    "## Main Body: "
   ]
  },
  {
   "cell_type": "markdown",
   "metadata": {},
   "source": [
    "#### Taking user input for the file_name\n",
    "This file contains the latitude and longitude of the land under consideration. We further check if the file name entered is valid or not."
   ]
  },
  {
   "cell_type": "code",
   "execution_count": null,
   "metadata": {},
   "outputs": [],
   "source": [
    "input_file = \"\"\n",
    "while True:\n",
    "\tinput_file = raw_input(\"Enter the file name with extension containing lat long of corners of polygon:\\n\")\n",
    "\tif os.path.exists(input_file):\n",
    "\t\tbreak\n",
    "\telse:\n",
    "\t\tprint(\"Enter file does not exists. Please re enter correct file\")\n",
    "\t\tcontinue"
   ]
  },
  {
   "cell_type": "markdown",
   "metadata": {},
   "source": [
    "#### Taking the seed distance as an input from the user\n",
    "This distance plays a significant role while computing the waypoints. We also check if the distance is valid or not and display appropriate messages."
   ]
  },
  {
   "cell_type": "code",
   "execution_count": null,
   "metadata": {},
   "outputs": [],
   "source": [
    "while True:\n",
    "\ttry:\n",
    "\t\tseed_distance = int(input(\"Please enter the distance between two waypoints:\\n\"))\n",
    "\t\tbreak\n",
    "\texcept:\n",
    "\t\tprint(\"Oops!  That was no valid distance.  Try again...\")"
   ]
  },
  {
   "cell_type": "markdown",
   "metadata": {},
   "source": [
    "#### Creating a latitude longitude list\n",
    "Here we read from the input file the latitude and longitude of the land under the consideration and add them to the latlon_list."
   ]
  },
  {
   "cell_type": "code",
   "execution_count": null,
   "metadata": {},
   "outputs": [],
   "source": [
    "latlon_list = []\n",
    "with open(input_file,\"r\") as input_f:\n",
    "\tfor line in input_f:\n",
    "\t\tcurrent_line = line.split(\",\")\n",
    "\t\tlatlon_list.append([float(current_line[1]),float(current_line[0])])"
   ]
  },
  {
   "cell_type": "markdown",
   "metadata": {},
   "source": [
    "#### Converting the latlon_list to a numpy array and contructing the convex hull using the function Polygon."
   ]
  },
  {
   "cell_type": "code",
   "execution_count": null,
   "metadata": {},
   "outputs": [],
   "source": [
    "latlon_num = np.array(latlon_list )#,dtype = np.float64)\n",
    "polygon_hull = Polygon(latlon_num)"
   ]
  },
  {
   "cell_type": "markdown",
   "metadata": {},
   "source": [
    "#### Finding the minimum and maximum co-ordinates.\n",
    "This helps us in find the square that is capable of containing the entire convex structure into it."
   ]
  },
  {
   "cell_type": "code",
   "execution_count": null,
   "metadata": {},
   "outputs": [],
   "source": [
    "min_col = np.amin(latlon_num,axis = 0)\n",
    "max_col = np.amax(latlon_num,axis = 0)"
   ]
  },
  {
   "cell_type": "markdown",
   "metadata": {},
   "source": [
    "#### Finding the 3 points using the min_col and max_col\n",
    "This helps us to get the side lenght of the largest square that can fit our convex structure."
   ]
  },
  {
   "cell_type": "code",
   "execution_count": null,
   "metadata": {},
   "outputs": [],
   "source": [
    "t1 = LAT_LON(min_col[0],min_col[1])\n",
    "t2 = LAT_LON(min_col[0],max_col[1])\n",
    "t3 = LAT_LON(max_col[0],min_col[1])"
   ]
  },
  {
   "cell_type": "markdown",
   "metadata": {},
   "source": [
    "#### Calling the get_distance_meters function.\n",
    "cal_d contains the maximum distance of the of the three points we computed, which ultimately helps us to get the side of the square. The above way point function works on an assumption that the lenght of the side of the square should be even. So we have placed a check for that."
   ]
  },
  {
   "cell_type": "code",
   "execution_count": null,
   "metadata": {},
   "outputs": [],
   "source": [
    "cal_d = max(distanceBetweenTwoGeoPoints(t1,t2),distanceBetweenTwoGeoPoints(t1,t3))\n",
    "total_step = math.ceil(cal_d/seed_distance)\n",
    "if total_step%2 == 0:\n",
    "\tcal_d = seed_distance*(total_step)\n",
    "else:\n",
    "\tcal_d = seed_distance*(total_step+1)"
   ]
  },
  {
   "cell_type": "markdown",
   "metadata": {},
   "source": [
    "#### Initialising the starting point for waypoint calculation and calling the required function."
   ]
  },
  {
   "cell_type": "code",
   "execution_count": null,
   "metadata": {},
   "outputs": [],
   "source": [
    "start_point = t1\n",
    "generate_points(start_point,int(cal_d),seed_distance,polygon_hull)\n",
    "print(\"\\n   Waypoints are generated and stored in waypoint_square.txt file. \\n\")"
   ]
  }
 ],
 "metadata": {
  "kernelspec": {
   "display_name": "Python 2",
   "language": "python",
   "name": "python2"
  },
  "language_info": {
   "codemirror_mode": {
    "name": "ipython",
    "version": 2
   },
   "file_extension": ".py",
   "mimetype": "text/x-python",
   "name": "python",
   "nbconvert_exporter": "python",
   "pygments_lexer": "ipython2",
   "version": "2.7.12"
  }
 },
 "nbformat": 4,
 "nbformat_minor": 4
}
