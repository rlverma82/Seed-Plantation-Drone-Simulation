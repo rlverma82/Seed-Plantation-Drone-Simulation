{
 "cells": [
  {
   "cell_type": "markdown",
   "metadata": {},
   "source": [
    "# drone_Auto.py"
   ]
  },
  {
   "cell_type": "markdown",
   "metadata": {},
   "source": [
    "### Importing header files:"
   ]
  },
  {
   "cell_type": "code",
   "execution_count": null,
   "metadata": {},
   "outputs": [],
   "source": [
    "from __future__ import print_function\n",
    "from dronekit import connect, VehicleMode, LocationGlobalRelative, Command\n",
    "from pymavlink import mavutil\n",
    "import os\n",
    "import json\n",
    "import urllib\n",
    "import math\n",
    "import time\n",
    "import argparse\n",
    "import logging , logging.handlers"
   ]
  },
  {
   "cell_type": "markdown",
   "metadata": {},
   "source": [
    "### Logging configuration:"
   ]
  },
  {
   "cell_type": "code",
   "execution_count": null,
   "metadata": {},
   "outputs": [],
   "source": [
    "logging.basicConfig(filename = \"Master.log\" , level = logging.DEBUG , format = \"%(levelname)s: %(filename)s: %(funcName)s: %(lineno)d: \t\t\t%(message)s\")\n",
    "logVAR = logging.getLogger(__name__)\n",
    "logVAR.setLevel(logging.DEBUG)\n",
    "logFileHand = logging.FileHandler(\"drone_seed_AUTO.log\")\n",
    "logFileHand.setLevel(logging.DEBUG)\n",
    "logFile_streamHandler = logging.StreamHandler()\n",
    "logFile_streamHandler.setLevel(logging.ERROR)\n",
    "logForVAR = logging.Formatter(\"%(levelname)s: %(filename)s: %(funcName)s: %(lineno)d: \t\t\t%(message)s\")\n",
    "logFileHand.setFormatter(logForVAR)\n",
    "logFile_streamHandler.setFormatter(logForVAR)\n",
    "logVAR.addHandler(logFileHand)\n",
    "logVAR.addHandler(logFile_streamHandler)"
   ]
  },
  {
   "cell_type": "markdown",
   "metadata": {},
   "source": [
    "## Functions Used:"
   ]
  },
  {
   "cell_type": "markdown",
   "metadata": {},
   "source": [
    "### 1.   distanceBetweenTwoGeoPoints(locPOINT1, locPOINT2):\n",
    "\n",
    "    This function calulates the ground distance between two points.\n",
    "\n",
    "    This function is a approximation therefore valid for only short distance.\n"
   ]
  },
  {
   "cell_type": "code",
   "execution_count": null,
   "metadata": {},
   "outputs": [],
   "source": [
    "def distanceBetweenTwoGeoPoints(locPOINT1, locPOINT2):\n",
    "\tdisLatitude = locPOINT2.lat - locPOINT1.lat\n",
    "\tdisLongitude = locPOINT2.lon - locPOINT1.lon\n",
    "\treturn math.sqrt((disLatitude*disLatitude) + (disLongitude*disLongitude)) * 1.113195e5\n"
   ]
  },
  {
   "cell_type": "markdown",
   "metadata": {},
   "source": [
    "### 2. calculateDistanceToCurrentPoint():\n",
    "\n",
    "\tThis function returns the distance to the current waypoint in meters.\n",
    "    \n",
    "\tIf Home Location is given as input the function returns None\n"
   ]
  },
  {
   "cell_type": "code",
   "execution_count": null,
   "metadata": {},
   "outputs": [],
   "source": [
    "def calculateDistanceToCurrentPoint():\n",
    "\tnextVehCommandInt = simDRONE.commands.next\n",
    "\tif nextVehCommandInt==0:\n",
    "\t\treturn None\n",
    "\tnextVehCommand=simDRONE.commands[nextVehCommandInt-1] #zero index\n",
    "\tlatitute = nextVehCommand.x\n",
    "\tlongitude = nextVehCommand.y\n",
    "\taltitude = nextVehCommand.z\n",
    "\tnextPointLoc = LocationGlobalRelative(latitute,longitude,altitude)\n",
    "\tdisPoint = distanceBetweenTwoGeoPoints(simDRONE.location.global_frame, nextPointLoc)\n",
    "\treturn disPoint"
   ]
  },
  {
   "cell_type": "markdown",
   "metadata": {},
   "source": [
    "### 3. armVehicleThenTakeOFF(flyingALT):\n",
    "\n",
    "This function takes a altitude as a parameter then arms the simulated drone and then fly to the given altitude."
   ]
  },
  {
   "cell_type": "code",
   "execution_count": null,
   "metadata": {},
   "outputs": [],
   "source": [
    "def armVehicleThenTakeOFF(flyingALT):\n",
    "\twhile not simDRONE.is_armable:\n",
    "\t\tlogVAR.warning(\"Waiting for drone to get ready -----\")\n",
    "\t\ttime.sleep(1.0)"
   ]
  },
  {
   "cell_type": "markdown",
   "metadata": {},
   "source": [
    "Change the mode of drone to GUIDED :"
   ]
  },
  {
   "cell_type": "code",
   "execution_count": null,
   "metadata": {},
   "outputs": [],
   "source": [
    "\twhile (simDRONE.mode.name != \"GUIDED\"):\n",
    "\t\tsimDRONE.mode = VehicleMode(\"GUIDED\")\n",
    "\t\ttime.sleep(0.2)"
   ]
  },
  {
   "cell_type": "markdown",
   "metadata": {},
   "source": [
    "Now we confirm that simulated drone is armed before taking off"
   ]
  },
  {
   "cell_type": "code",
   "execution_count": null,
   "metadata": {},
   "outputs": [],
   "source": [
    "\twhile not simDRONE.armed:\n",
    "\t\tsimDRONE.armed = True\n",
    "\t\tlogVAR.warning(\"Wait for simulated drone to get armed\")\n",
    "\t\ttime.sleep(0.5)\n",
    "\n",
    "\tprint(\"Simulate Drone is taking off..\")\n",
    "\tlogVAR.info(\"Simulate Drone is taking off..\")\n",
    "\tsimDRONE.simple_takeoff(flyingALT)"
   ]
  },
  {
   "cell_type": "markdown",
   "metadata": {},
   "source": [
    "Now we add a check to see whether drone has reached the safe height:"
   ]
  },
  {
   "cell_type": "code",
   "execution_count": null,
   "metadata": {},
   "outputs": [],
   "source": [
    "\twhile True:\n",
    "\t\theight = flyingALT*0.95\n",
    "\t\tif simDRONE.location.global_relative_frame.alt >= height:\n",
    "\t\t\tprint(\"Drone has reached the height of %f\" % (flyingALT))\n",
    "\t\t\tlogVAR.info(\"Drone has reached the height of %f\" % (flyingALT))\n",
    "\t\t\tbreak\n",
    "\t\tlogVAR.info(\"Height: %f < %f\" % (simDRONE.location.global_relative_frame.alt,height))\n",
    "\t\ttime.sleep(1.0)"
   ]
  },
  {
   "cell_type": "markdown",
   "metadata": {},
   "source": [
    "### 4. print_simDRONE_parameters():\n",
    "This function list all the parameters of the simulated drone and stores it in log file."
   ]
  },
  {
   "cell_type": "code",
   "execution_count": null,
   "metadata": {},
   "outputs": [],
   "source": [
    "def print_simDRONE_parameters():\n",
    "\tlogVAR.info (\"Listing all the current simulated drone parameters (`simDRONE.parameters`):\")\n",
    "\tfor para, ivalue in simDRONE.parameters.iteritems():\n",
    "\t\tlogVAR.info (\" Parameter : %s Current Value : %s\" % (para,ivalue))"
   ]
  },
  {
   "cell_type": "markdown",
   "metadata": {},
   "source": [
    "## Main Body :"
   ]
  },
  {
   "cell_type": "code",
   "execution_count": null,
   "metadata": {},
   "outputs": [],
   "source": [
    "startingLatitude = 0.0\t\t#latitute variable\n",
    "startingLongitude = 0.0\t\t#longitude variable\n",
    "startingAltitude = 0.0\t\t#altitude variable\n",
    "waypoint_file = \"\"\t#stores the waypoint file name"
   ]
  },
  {
   "cell_type": "markdown",
   "metadata": {},
   "source": [
    "Takes the lattitude, longitude and altitude value from USER and check if USER enters the correct values or not."
   ]
  },
  {
   "cell_type": "code",
   "execution_count": null,
   "metadata": {},
   "outputs": [],
   "source": [
    "while True:\n",
    "\ttry:\n",
    "\t\tstartingLatitude = float(input(\"Please enter the latitute of starting point:\\n\"))\n",
    "\t\tlogVAR.debug(\"USER entered latitute value: %s\",str(startingLatitude))\n",
    "\t\tif(startingLatitude<0 or startingLatitude>90):\n",
    "\t\t\tprint(\"Latitude value must be between 0 and 90\")\n",
    "\t\t\tcontinue\n",
    "\t\tstartingLongitude = float(input(\"Please enter the longitude of starting point:\\n\"))\n",
    "\t\tlogVAR.debug(\"USER entered longitude value: %s\",str(startingLongitude))\n",
    "\t\tif(startingLongitude<0 or startingLongitude>180):\n",
    "\t\t\tprint(\"Langitude value must be between 0 and 180\")\n",
    "\t\t\tcontinue\n",
    "\t\tstartingAltitude = float(input(\"Please enter the altitude for the drone:\\n\"))\n",
    "\t\tlogVAR.debug(\"USER entered altitude value: %s\",str(startingAltitude))\n",
    "\t\tif(startingAltitude<0):\n",
    "\t\t\tprint(\"Altitude value must be positive\")\n",
    "\t\t\tcontinue\n",
    "\t\tbreak\n",
    "\texcept:\n",
    "\t\tlogVAR.error(\"Oops!  That was no valid lat/lon or altitude.  Try again...\")"
   ]
  },
  {
   "cell_type": "markdown",
   "metadata": {},
   "source": [
    "Takes the waypoint file name from USER"
   ]
  },
  {
   "cell_type": "code",
   "execution_count": null,
   "metadata": {},
   "outputs": [],
   "source": [
    "while True:\n",
    "\twaypoint_file = raw_input(\"Enter the waypoint file name with extension:\\n\")\n",
    "\tif os.path.exists(waypoint_file):\n",
    "\t\tbreak\n",
    "\telse:\n",
    "\t\tprint(\"Enter file does not exists. Please re enter correct file\")\n",
    "\t\tlogVAR.error(\"Enter file does not exists.\")\n",
    "\t\tcontinue"
   ]
  },
  {
   "cell_type": "markdown",
   "metadata": {},
   "source": [
    "Now we set up parsing to  get the connection string from user"
   ]
  },
  {
   "cell_type": "code",
   "execution_count": null,
   "metadata": {},
   "outputs": [],
   "source": [
    "parsingVAR = argparse.ArgumentParser(description=' Seed Plantation using drone.')\n",
    "parsingVAR.add_argument('--connect', help=\"simDRONE connection string. SITL is automatically started if connection string not specified.\")\n",
    "argsVAR = parsingVAR.parse_args()\n",
    "userConString = argsVAR.connect\n",
    "sitlSIM = None\n"
   ]
  },
  {
   "cell_type": "markdown",
   "metadata": {},
   "source": [
    "Start the SITL if user do not specify the connection string for the drone"
   ]
  },
  {
   "cell_type": "code",
   "execution_count": null,
   "metadata": {},
   "outputs": [],
   "source": [
    "if not userConString:\n",
    "\timport dronekit_sitl\n",
    "\tsitlSIM = dronekit_sitl.start_default(lat=startingLatitude,lon=startingLongitude)\n",
    "\tuserConString = sitlSIM.connection_string()"
   ]
  },
  {
   "cell_type": "markdown",
   "metadata": {},
   "source": [
    "Now connect to the simulated drone"
   ]
  },
  {
   "cell_type": "code",
   "execution_count": null,
   "metadata": {},
   "outputs": [],
   "source": [
    "print('Connecting to simulated drone on: %s' % userConString)\n",
    "logVAR.info('Connecting to simulated drone on: %s' % userConString)\n",
    "simDRONE = connect(userConString, wait_ready=True)"
   ]
  },
  {
   "cell_type": "markdown",
   "metadata": {},
   "source": [
    "Log drone parameters:"
   ]
  },
  {
   "cell_type": "code",
   "execution_count": null,
   "metadata": {},
   "outputs": [],
   "source": [
    "print_simDRONE_parameters()"
   ]
  },
  {
   "cell_type": "markdown",
   "metadata": {},
   "source": [
    "Download the simulated drone commands"
   ]
  },
  {
   "cell_type": "code",
   "execution_count": null,
   "metadata": {},
   "outputs": [],
   "source": [
    "droneCMDS = simDRONE.commands\n",
    "droneCMDS.wait_ready()\n",
    "droneCMDS = simDRONE.commands\n",
    "droneCMDS.clear()\n",
    "line_count = 0    #Variable that keep track of total commands"
   ]
  },
  {
   "cell_type": "markdown",
   "metadata": {},
   "source": [
    "Add command for starting location:"
   ]
  },
  {
   "cell_type": "code",
   "execution_count": null,
   "metadata": {},
   "outputs": [],
   "source": [
    "droneCMD = Command( 0, 0, 0, mavutil.mavlink.MAV_FRAME_GLOBAL_RELATIVE_ALT , mavutil.mavlink.MAV_CMD_NAV_WAYPOINT , 0, 0, 0, 0, 0, 0,startingLatitude, startingLongitude,startingAltitude)\n",
    "droneCMDS.add(droneCMD)"
   ]
  },
  {
   "cell_type": "markdown",
   "metadata": {},
   "source": [
    "add command for all waypoints:"
   ]
  },
  {
   "cell_type": "code",
   "execution_count": null,
   "metadata": {},
   "outputs": [],
   "source": [
    "with open(waypoint_file,\"r\") as way_p:\n",
    "\tfor pt in way_p:\n",
    "\t\tcurrent_line = pt.split(\",\")\n",
    "\t\tline_count +=1\n",
    "\t\tlat = float(current_line[0])\n",
    "\t\tlon = float(current_line[1])\n",
    "\t\tlogVAR.debug (\"Point: %f %f\" %(lat, lon))\n",
    "\t\tdroneCMD = Command( 0, 0, 0, mavutil.mavlink.MAV_FRAME_GLOBAL_RELATIVE_ALT , mavutil.mavlink.MAV_CMD_NAV_WAYPOINT , 0, 0, 5, 0, 0, 0,lat, lon, startingAltitude)\n",
    "\t\tdroneCMDS.add(droneCMD)\n",
    "way_p.close()"
   ]
  },
  {
   "cell_type": "markdown",
   "metadata": {},
   "source": [
    "Add command for returing to base:"
   ]
  },
  {
   "cell_type": "code",
   "execution_count": null,
   "metadata": {},
   "outputs": [],
   "source": [
    "droneCMD = Command( 0, 0, 0, mavutil.mavlink.MAV_FRAME_GLOBAL_RELATIVE_ALT, mavutil.mavlink.MAV_CMD_NAV_WAYPOINT,0, 0, 0, 0, 0, 0,startingLatitude, startingLongitude,startingAltitude)\n",
    "droneCMDS.add(droneCMD)"
   ]
  },
  {
   "cell_type": "markdown",
   "metadata": {},
   "source": [
    "Now we upload all the waypoints to our simulated drone."
   ]
  },
  {
   "cell_type": "code",
   "execution_count": null,
   "metadata": {},
   "outputs": [],
   "source": [
    "print(\"Upload points to simulated drone...\" )\n",
    "logVAR.info(\"Upload points to simulated drone...\")\n",
    "droneCMDS.upload()\n",
    "print(\"Drone is arming and taking off:\")\n",
    "logVAR.info(\"Drone is arming and taking off:\")\n",
    "armVehicleThenTakeOFF(startingAltitude)\n",
    "\n",
    "print(\"Starting Seed Plantation mission\")\n",
    "logVAR.info(\"Starting Seed Plantation mission\")\n"
   ]
  },
  {
   "cell_type": "markdown",
   "metadata": {},
   "source": [
    "Reset command to first point i.e 0"
   ]
  },
  {
   "cell_type": "code",
   "execution_count": null,
   "metadata": {},
   "outputs": [],
   "source": [
    "simDRONE.commands.next=0"
   ]
  },
  {
   "cell_type": "markdown",
   "metadata": {},
   "source": [
    "To start the mission set the drone MODE to AUTO:"
   ]
  },
  {
   "cell_type": "code",
   "execution_count": null,
   "metadata": {},
   "outputs": [],
   "source": [
    "while (simDRONE.mode.name != \"AUTO\"):\n",
    "\tsimDRONE.mode = VehicleMode(\"AUTO\")\n",
    "\ttime.sleep(0.1)"
   ]
  },
  {
   "cell_type": "markdown",
   "metadata": {},
   "source": [
    "### Monitor mission\n",
    "\n",
    "It calculates the distance to next waypoint at regular interval (here 1 sec) and if distance is < 1.5m we assume that drone has reached the point where it has to drop the seed and Seed Dropping is going on. (Thats why we see multiple dropping seed print statement in terminal)\n",
    "\n",
    "When we reach the last point, RTL (Return to launch) command is executed by changing the drone mode to RTL.\n"
   ]
  },
  {
   "cell_type": "code",
   "execution_count": null,
   "metadata": {},
   "outputs": [],
   "source": [
    "while True:\n",
    "\tnextVehCommandInt = simDRONE.commands.next\n",
    "\tprint('Distance to next seed drop point (%s): %s' % (nextVehCommandInt, calculateDistanceToCurrentPoint()))\n",
    "\tlogVAR.info('Distance to next seed drop point (%s): %s' % (nextVehCommandInt, calculateDistanceToCurrentPoint()))\n",
    "\tif calculateDistanceToCurrentPoint()<1.5:\n",
    "\t\tprint(\"Dropping Seed\")\n",
    "\t\tlogVAR.critical(\"Dropping Seed\")\n",
    "\tif nextVehCommandInt==line_count+1:\n",
    "\t\tprint(\"Drone is heading to start location or launch location\")\n",
    "\t\tlogVAR.info(\"Drone is heading to start location or launch location\")\n",
    "\t\tbreak;\n",
    "\ttime.sleep(1)\n",
    "\n",
    "print('Return to base/helipad')\n",
    "logVAR.critical(\"Return to base/helipad\")\n",
    "while (simDRONE.mode.name != \"RTL\"):\n",
    "\tsimDRONE.mode = VehicleMode(\"RTL\")\n",
    "\ttime.sleep(0.1)"
   ]
  },
  {
   "cell_type": "markdown",
   "metadata": {},
   "source": [
    "Close simulated drone object before terminating script"
   ]
  },
  {
   "cell_type": "code",
   "execution_count": null,
   "metadata": {},
   "outputs": [],
   "source": [
    "print(\"Close simulated drone object\")\n",
    "logVAR.info(\"Close simulated drone object\")\n",
    "simDRONE.close()"
   ]
  },
  {
   "cell_type": "markdown",
   "metadata": {},
   "source": [
    "Shut down simulator:"
   ]
  },
  {
   "cell_type": "code",
   "execution_count": null,
   "metadata": {},
   "outputs": [],
   "source": [
    "if sitlSIM is not None:\n",
    "\tsitlSIM.stop()\n",
    "print(\"Seed Plantation Completed...\")\n",
    "logVAR.info(\"Seed Plantation Completed...\")"
   ]
  }
 ],
 "metadata": {
  "kernelspec": {
   "display_name": "Python 2",
   "language": "python",
   "name": "python2"
  },
  "language_info": {
   "codemirror_mode": {
    "name": "ipython",
    "version": 2
   },
   "file_extension": ".py",
   "mimetype": "text/x-python",
   "name": "python",
   "nbconvert_exporter": "python",
   "pygments_lexer": "ipython2",
   "version": "2.7.12"
  }
 },
 "nbformat": 4,
 "nbformat_minor": 2
}
