{
 "cells": [
  {
   "cell_type": "markdown",
   "metadata": {},
   "source": [
    "# drone_Guided.py"
   ]
  },
  {
   "cell_type": "markdown",
   "metadata": {},
   "source": [
    "### Importing header files:"
   ]
  },
  {
   "cell_type": "code",
   "execution_count": null,
   "metadata": {},
   "outputs": [],
   "source": [
    "from __future__ import print_function\n",
    "from pymavlink import mavutil\n",
    "from dronekit import connect, VehicleMode, LocationGlobalRelative, LocationGlobal,Command\n",
    "import os\n",
    "import json\n",
    "import urllib\n",
    "import math\n",
    "import argparse\n",
    "import time\n",
    "import logging , logging.handlers"
   ]
  },
  {
   "cell_type": "markdown",
   "metadata": {},
   "source": [
    "### Logging configuration:"
   ]
  },
  {
   "cell_type": "code",
   "execution_count": null,
   "metadata": {},
   "outputs": [],
   "source": [
    "logging.basicConfig(filename = \"Master.log\" , level = logging.DEBUG , format = \"%(levelname)s: %(filename)s: %(funcName)s: %(lineno)d: \t\t\t%(message)s\")\n",
    "logVAR = logging.getLogger(__name__)\n",
    "logVAR.setLevel(logging.DEBUG)\n",
    "logFileHand = logging.FileHandler(\"drone_seed_GUIDED.log\")\n",
    "logFileHand.setLevel(logging.DEBUG)\n",
    "logFile_streamHandler = logging.StreamHandler()\n",
    "logFile_streamHandler.setLevel(logging.ERROR)\n",
    "logForVAR = logging.Formatter(\"%(levelname)s: %(filename)s: %(funcName)s: %(lineno)d: \t\t\t%(message)s\")\n",
    "logFileHand.setFormatter(logForVAR)\n",
    "logFile_streamHandler.setFormatter(logForVAR)\n",
    "logVAR.addHandler(logFileHand)\n",
    "logVAR.addHandler(logFile_streamHandler)\n"
   ]
  },
  {
   "cell_type": "markdown",
   "metadata": {},
   "source": [
    "### Custom Class for taking lat/lon and alt points\n",
    "\n",
    "LAT_LON_ALT class takes three parameters x,y and z save them as lon,lat and alt variables of the class object."
   ]
  },
  {
   "cell_type": "code",
   "execution_count": null,
   "metadata": {},
   "outputs": [],
   "source": [
    "class LAT_LON_ALT:\n",
    "\tdef __init__(self,x,y,z):\n",
    "\t\tself.lon = x\n",
    "\t\tself.lat = y\n",
    "\t\tself.alt = z\n"
   ]
  },
  {
   "cell_type": "markdown",
   "metadata": {},
   "source": [
    "## Functions Used:"
   ]
  },
  {
   "cell_type": "markdown",
   "metadata": {},
   "source": [
    "### 1.   distanceBetweenTwoGeoPoints(locPOINT1, locPOINT2):\n",
    "\n",
    "This function calulates the ground distance between two points.\n",
    "    \n",
    "This function is a approximation therefore valid for only short distance.\n"
   ]
  },
  {
   "cell_type": "code",
   "execution_count": null,
   "metadata": {},
   "outputs": [],
   "source": [
    "def distanceBetweenTwoGeoPoints(locPOINT1, locPOINT2):\n",
    "\tdisLatitude = locPOINT2.lat - locPOINT1.lat\n",
    "\tdisLongitude = locPOINT2.lon - locPOINT1.lon\n",
    "\treturn math.sqrt((disLatitude*disLatitude) + (disLongitude*disLongitude)) * 1.113195e5"
   ]
  },
  {
   "cell_type": "markdown",
   "metadata": {},
   "source": [
    "### 2. armVehicleThenTakeOFF(flyingALT):\n",
    "\n",
    "This function takes a altitude as a parameter then arms the simulated drone and then fly to the given altitude."
   ]
  },
  {
   "cell_type": "code",
   "execution_count": null,
   "metadata": {},
   "outputs": [],
   "source": [
    "def armVehicleThenTakeOFF(flyingALT):\n",
    "\t# Wait for autopilot to get ready\n",
    "\twhile not simDRONE.is_armable:\n",
    "\t\tlogVAR.warning(\"Waiting for drone to get ready -----\")\n",
    "\t\ttime.sleep(1.0)\n",
    "\n",
    "\t# Change the mode of drone to GUIDED :\n",
    "\twhile (simDRONE.mode.name != \"GUIDED\"):\n",
    "\t\tsimDRONE.mode = VehicleMode(\"GUIDED\")\n",
    "\t\ttime.sleep(0.2)\n",
    "\t# Now we confirm that simulated drone is armed before taking off\n",
    "\twhile not simDRONE.armed:\n",
    "\t\tsimDRONE.armed = True\n",
    "\t\tlogVAR.warning(\"Wait for simulated drone to get armed\")\n",
    "\t\ttime.sleep(0.5)\n",
    "\n",
    "\tprint(\"Simulate Drone is taking off..\")\n",
    "\tlogVAR.info(\"Simulate Drone is taking off..\")\n",
    "\tsimDRONE.simple_takeoff(flyingALT)\n",
    "\n",
    "\t# Now we add a check to see whether drone has reached the safe height:\n",
    "\n",
    "\twhile True:\n",
    "\t\theight = flyingALT*0.95\n",
    "\t\tif simDRONE.location.global_relative_frame.alt >= height:\n",
    "\t\t\tprint(\"Drone has reached the height of %f\" % (flyingALT))\n",
    "\t\t\tlogVAR.info(\"Drone has reached the height of %f\" % (flyingALT))\n",
    "\t\t\tbreak\n",
    "\t\tlogVAR.info(\"Height: %f < %f\" % (simDRONE.location.global_relative_frame.alt,height))\n",
    "\t\ttime.sleep(1.0)\n"
   ]
  },
  {
   "cell_type": "markdown",
   "metadata": {},
   "source": [
    "### 3. goto(targetLocation):\n"
   ]
  },
  {
   "cell_type": "markdown",
   "metadata": {},
   "source": [
    "At first we store the target location in Vehicle Global Relative Frame object and calculate the target distance.\n",
    "\n",
    "Then using the mavlink and vehicle message factory send command to drone to move to next target location.\n",
    "\n",
    "There is another way to send command to drone by using the inbuild function vehicle_simple_goto(). (But we are using our custom command)\n",
    "\n",
    "Note: Take care of the coordinate system followed by different msg command (like WGS84 or Lat/lon system etc)"
   ]
  },
  {
   "cell_type": "code",
   "execution_count": null,
   "metadata": {},
   "outputs": [],
   "source": [
    "def goto(targetLocation):\n",
    "\t# send command to simulated drone\n",
    "\tlogVAR.debug(\"Target location lat: %f , lon: %f , alt: %f\" % (targetLocation.lat,targetLocation.lon,targetLocation.alt))\n",
    "\tvc_in_loc = simDRONE.location.global_relative_frame\n",
    "\tsimDRONE_initialLocation = LAT_LON_ALT(vc_in_loc.lon,vc_in_loc.lat,vc_in_loc.alt)\n",
    "\ttargetDistance = distanceBetweenTwoGeoPoints(simDRONE_initialLocation, targetLocation)\n",
    "\tmsg = simDRONE.message_factory.set_position_target_global_int_encode( 0, 0, 0, mavutil.mavlink.MAV_FRAME_GLOBAL_RELATIVE_ALT_INT, 0b0000111111111000, targetLocation.lat*1e7, targetLocation.lon*1e7, targetLocation.alt, 0, 0, 0, 0, 0, 0, 0, 0)\n",
    "\tsimDRONE.send_mavlink(msg)\n",
    "\tlogVAR.debug(\"Send Command Message to drone\")\n",
    "\t# target = LocationGlobal(targetLocation.lat,targetLocation.lon,targetLocation.alt)\n",
    "\t# simDRONE.airspeed=15\n",
    "\t# simDRONE.simple_goto(target)"
   ]
  },
  {
   "cell_type": "markdown",
   "metadata": {},
   "source": [
    "#### CRITICAL : \n",
    "There may be case that our msg command send above is dropped due to network failure. In that case drone will be stuck at a point.\n",
    "\n",
    "To handle this we monitor the drone for 5 sec after sending the command. If drone doesnot move (i.e. targetDistance is  still greater than 90% of that of at first sec) then we resend  the msg command to drone.\n",
    "\n",
    "Following code even handle the drone Mode change if any."
   ]
  },
  {
   "cell_type": "code",
   "execution_count": null,
   "metadata": {},
   "outputs": [],
   "source": [
    "\tfiveSecondCheck = targetDistance\n",
    "\tfiveCounter = 1\n",
    "\tlogVAR.debug(\"fiveSecondCheck distance: %f \" % (fiveSecondCheck))\n",
    "\tlogVAR.debug(\"fiveCounter value: %d \" % (fiveCounter))\n",
    "\twhile True:\n",
    "\t\tlogVAR.debug(\"mode: %s\" % simDRONE.mode.name)\n",
    "\t\twhile (simDRONE.mode.name != \"GUIDED\"):\n",
    "\t\t\tsimDRONE.mode = VehicleMode(\"GUIDED\")\n",
    "\t\t\ttime.sleep(0.1)\n",
    "\n",
    "\t\tif fiveCounter == 1:\n",
    "\t\t\tvc_loc = simDRONE.location.global_relative_frame\n",
    "\t\t\tsimDRONE_currentLocation = LAT_LON_ALT(vc_loc.lon,vc_loc.lat,vc_loc.alt)\n",
    "\t\t\tfiveSecondCheck = distanceBetweenTwoGeoPoints(simDRONE_currentLocation, targetLocation)\n",
    "\t\t\tlogVAR.debug(\"fiveSecondCheck distance: %f \" % (fiveSecondCheck))\n",
    "\t\t\tlogVAR.debug(\"fiveCounter value: %d \" % (fiveCounter))\n",
    "\n",
    "\t\tif fiveCounter >=5:\n",
    "\t\t\tlogVAR.debug(\"fiveSecondCheck distance: %f \" % (fiveSecondCheck))\n",
    "\t\t\tlogVAR.debug(\"fiveCounter value: %d \" % (fiveCounter))\n",
    "\t\t\tfiveCounter = 1\n",
    "\t\t\tvc_loc = simDRONE.location.global_relative_frame\n",
    "\t\t\tsimDRONE_currentLocation = LAT_LON_ALT(vc_loc.lon,vc_loc.lat,vc_loc.alt)\n",
    "\t\t\tcurrentDistanceToTarget = distanceBetweenTwoGeoPoints(simDRONE_currentLocation, targetLocation)\n",
    "\t\t\tlogVAR.debug(\"fiveSecondCheck currentDistanceToTarget distance: %f \" % (currentDistanceToTarget))\n",
    "\t\t\tif currentDistanceToTarget >= 0.9* fiveSecondCheck:\n",
    "\t\t\t\t#resend the msg command to drone\n",
    "\t\t\t\tsimDRONE.send_mavlink(msg)\n",
    "\t\t\t\tlogVAR.critical(\"Last command message dropped. Resending the command message to drone\")\n",
    "\t\t\t\tlogVAR.debug(\"Resend the command message to drone.\")\n",
    "\n",
    "\t\tvc_loc = simDRONE.location.global_relative_frame\n",
    "\t\tsimDRONE_currentLocation = LAT_LON_ALT(vc_loc.lon,vc_loc.lat,vc_loc.alt)\n",
    "\t\tremDistance=distanceBetweenTwoGeoPoints(simDRONE_currentLocation, targetLocation)\n",
    "\t\tlogVAR.info(\"Distance to next seed drop point: %f\" % (remDistance))\n",
    "\t\tprint(\"Distance to next seed drop point: %f\" % (remDistance))\n",
    "\t\tif remDistance <= 1:\n",
    "\t\t\tlogVAR.info(\"Reached drop point\")\n",
    "\t\t\tbreak\n",
    "\t\tfiveCounter += 1\n",
    "\t\ttime.sleep(1)\n"
   ]
  },
  {
   "cell_type": "markdown",
   "metadata": {},
   "source": [
    "### 4. print_simDRONE_parameters():\n",
    "\n",
    "This function list all the parameters of the simulated drone and stores it in log file"
   ]
  },
  {
   "cell_type": "code",
   "execution_count": null,
   "metadata": {},
   "outputs": [],
   "source": [
    "def print_simDRONE_parameters():\n",
    "\tlogVAR.info (\"Listing all the current simulated drone parameters (`simDRONE.parameters`):\")\n",
    "\tfor para, ivalue in simDRONE.parameters.iteritems():\n",
    "\t\tlogVAR.info (\" Parameter : %s Current Value : %s\" % (para,ivalue))"
   ]
  },
  {
   "cell_type": "markdown",
   "metadata": {},
   "source": [
    "### 5. startMission(startingLocation):\n",
    "This function controls the planned mission of drone.\n",
    "Collect all the waypoints from the file and use goto() function to give commands to drone.\n",
    "\n",
    "Once the drone reaches the required location we can drop the seed."
   ]
  },
  {
   "cell_type": "code",
   "execution_count": null,
   "metadata": {},
   "outputs": [],
   "source": [
    "def startMission(startingLocation):\n",
    "\twith open(waypoint_file,\"r\") as waypointFile:\n",
    "\t\tfor pt in waypointFile:\n",
    "\t\t\tcurrent_line = pt.split(\",\")\n",
    "\t\t\tnextLocation = LAT_LON_ALT(float(current_line[1]),float(current_line[0]),startingLocation.alt)\n",
    "\t\t\tlogVAR.debug(\"Next location lat: %f , lon: %f , alt: %f\",nextLocation.lat,nextLocation.lon,nextLocation.alt)\n",
    "\t\t\tgoto(nextLocation)\n",
    "\t\t\tprint(\"Dropping Seed\")\n",
    "\t\t\tlogVAR.info(\"Dropping Seed\")\n",
    "\twaypointFile.close()"
   ]
  },
  {
   "cell_type": "markdown",
   "metadata": {},
   "source": [
    "## Main Body :"
   ]
  },
  {
   "cell_type": "code",
   "execution_count": null,
   "metadata": {},
   "outputs": [],
   "source": [
    "startingLocation = LAT_LON_ALT(0.0,0.0,0.0) #startingLocation variable\n",
    "waypoint_file = \"\"\t#stores the waypoint file name"
   ]
  },
  {
   "cell_type": "markdown",
   "metadata": {},
   "source": [
    "Takes the lat lon and alt value from USER\n"
   ]
  },
  {
   "cell_type": "code",
   "execution_count": null,
   "metadata": {},
   "outputs": [],
   "source": [
    "while True:\n",
    "\ttry:\n",
    "\t\tstartingLocation.lat = float(input(\"Please enter the latitute of starting point:\\n\"))\n",
    "\t\tlogVAR.debug(\"USER entered latitute value: %s\",str(startingLocation.lat))\n",
    "\t\tif(startingLocation.lat<0 or startingLocation.lat>90):\n",
    "\t\t\tprint(\"Latitude value must be between 0 and 90\")\n",
    "\t\t\tcontinue\n",
    "\t\tstartingLocation.lon = float(input(\"Please enter the longitude of starting point:\\n\"))\n",
    "\t\tlogVAR.debug(\"USER entered longitude value: %s\",str(startingLocation.lon))\n",
    "\t\tif(startingLocation.lon<0 or startingLocation.lon>180):\n",
    "\t\t\tprint(\"Langitude value must be between 0 and 180\")\n",
    "\t\t\tcontinue\n",
    "\t\tstartingLocation.alt = float(input(\"Please enter the altitude for the drone:\\n\"))\n",
    "\t\tlogVAR.debug(\"USER entered altitude value: %s\",str(startingLocation.alt))\n",
    "\t\tif(startingLocation.alt<0):\n",
    "\t\t\tprint(\"Altitude value must be positive\")\n",
    "\t\t\tcontinue\n",
    "\t\tbreak\n",
    "\texcept:\n",
    "\t\tlogVAR.error(\"Oops!  That was no valid lat/lon or altitude.  Try again...\")"
   ]
  },
  {
   "cell_type": "markdown",
   "metadata": {},
   "source": [
    "Takes the waypoint file name from USER"
   ]
  },
  {
   "cell_type": "code",
   "execution_count": null,
   "metadata": {},
   "outputs": [],
   "source": [
    "while True:\n",
    "\twaypoint_file = raw_input(\"Enter the waypoint file name with extension:\\n\")\n",
    "\tif os.path.exists(waypoint_file):\n",
    "\t\tbreak\n",
    "\telse:\n",
    "\t\tprint(\"Enter file does not exists. Please re enter correct file\")\n",
    "\t\tlogVAR.error(\"Enter file does not exists.\")\n",
    "\t\tcontinue"
   ]
  },
  {
   "cell_type": "markdown",
   "metadata": {},
   "source": [
    "Now we set up parsing to  get the connection string from user\n"
   ]
  },
  {
   "cell_type": "code",
   "execution_count": null,
   "metadata": {},
   "outputs": [],
   "source": [
    "parsingVAR = argparse.ArgumentParser(description=' Demonstrates Seed Plantation Mission in GUIDED mode.')\n",
    "parsingVAR.add_argument('--connect', help=\"simDRONE connection string. SITL is automatically started if connection string not specified.\")\n",
    "argsVAR = parsingVAR.parse_args()\n",
    "userConString = argsVAR.connect\n",
    "sitlSIM = None"
   ]
  },
  {
   "cell_type": "markdown",
   "metadata": {},
   "source": [
    "Start the SITL is user do not specify the connection string for the drone"
   ]
  },
  {
   "cell_type": "code",
   "execution_count": null,
   "metadata": {},
   "outputs": [],
   "source": [
    "if not userConString:\n",
    "\timport dronekit_sitl\n",
    "\tsitlSIM = dronekit_sitl.start_default(lat=startingLocation.lat,lon=startingLocation.lon)\n",
    "\tuserConString = sitlSIM.connection_string()"
   ]
  },
  {
   "cell_type": "markdown",
   "metadata": {},
   "source": [
    "Now connect to the simulated drone"
   ]
  },
  {
   "cell_type": "code",
   "execution_count": null,
   "metadata": {},
   "outputs": [],
   "source": [
    "print('Connecting to simulated drone on: %s' % userConString)\n",
    "logVAR.info('Connecting to simulated drone on: %s' % userConString)\n",
    "simDRONE = connect(userConString, wait_ready=True)"
   ]
  },
  {
   "cell_type": "markdown",
   "metadata": {},
   "source": [
    "Log simulated drone parameters:"
   ]
  },
  {
   "cell_type": "code",
   "execution_count": null,
   "metadata": {},
   "outputs": [],
   "source": [
    "print_simDRONE_parameters()"
   ]
  },
  {
   "cell_type": "code",
   "execution_count": null,
   "metadata": {},
   "outputs": [],
   "source": [
    "print(\"Drone is arming and taking off:\")\n",
    "logVAR.info(\"Drone is arming and taking off:\")\n",
    "armVehicleThenTakeOFF(startingLocation.alt)"
   ]
  },
  {
   "cell_type": "markdown",
   "metadata": {},
   "source": [
    "Start the mission by calling the startMission() function\n",
    "\n",
    "After completion of mission RTL (Return to Launch)"
   ]
  },
  {
   "cell_type": "code",
   "execution_count": null,
   "metadata": {},
   "outputs": [],
   "source": [
    "print(\"Starting mission\")\n",
    "logVAR.info(\"Starting mission\")\n",
    "\n",
    "startMission(startingLocation)\n",
    "\n",
    "\n",
    "print('Return to base/helipad')\n",
    "logVAR.critical(\"Return to base/helipad\")\n",
    "while (simDRONE.mode.name != \"RTL\"):\n",
    "\tsimDRONE.mode = VehicleMode(\"RTL\")\n",
    "\ttime.sleep(0.1)"
   ]
  },
  {
   "cell_type": "markdown",
   "metadata": {},
   "source": [
    "Close simulated drone object before terminating script\n"
   ]
  },
  {
   "cell_type": "code",
   "execution_count": null,
   "metadata": {},
   "outputs": [],
   "source": [
    "print(\"Close simulated drone object\")\n",
    "logVAR.info(\"Close simulated drone object\")\n",
    "simDRONE.close()\n"
   ]
  },
  {
   "cell_type": "markdown",
   "metadata": {},
   "source": [
    "Shut down simulator."
   ]
  },
  {
   "cell_type": "code",
   "execution_count": null,
   "metadata": {},
   "outputs": [],
   "source": [
    "if sitlSIM is not None:\n",
    "\tsitlSIM.stop()\n",
    "print(\"Seed Plantation Completed...\")\n",
    "logVAR.info(\"Seed Plantation Completed...\")"
   ]
  }
 ],
 "metadata": {
  "kernelspec": {
   "display_name": "Python 2",
   "language": "python",
   "name": "python2"
  },
  "language_info": {
   "codemirror_mode": {
    "name": "ipython",
    "version": 2
   },
   "file_extension": ".py",
   "mimetype": "text/x-python",
   "name": "python",
   "nbconvert_exporter": "python",
   "pygments_lexer": "ipython2",
   "version": "2.7.12"
  }
 },
 "nbformat": 4,
 "nbformat_minor": 2
}
