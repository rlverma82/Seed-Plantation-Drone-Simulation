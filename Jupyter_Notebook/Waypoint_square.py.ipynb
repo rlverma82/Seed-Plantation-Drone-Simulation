{
 "cells": [
  {
   "cell_type": "markdown",
   "metadata": {},
   "source": [
    "# waypoint_square.py\n",
    "\n",
    "In this algorithm we are given a square land that drone has to traverse. We traverse along the sides of the square in a zic- zac manner and add the point in our output file. \n",
    "Finally printing the output file."
   ]
  },
  {
   "cell_type": "markdown",
   "metadata": {},
   "source": [
    "### importing headers"
   ]
  },
  {
   "cell_type": "code",
   "execution_count": null,
   "metadata": {},
   "outputs": [],
   "source": [
    "from __future__ import print_function\n",
    "import math"
   ]
  },
  {
   "cell_type": "markdown",
   "metadata": {},
   "source": [
    "### Custom Class for taking lat/lon points\n",
    "\n",
    "POINT class takes two parameters x and y and save them as lon and lat variables of the class object."
   ]
  },
  {
   "cell_type": "code",
   "execution_count": null,
   "metadata": {},
   "outputs": [],
   "source": [
    "class POINT:\n",
    "\tdef __init__(self,x,y):\n",
    "\t\tself.lat = x\n",
    "\t\tself.lon =y"
   ]
  },
  {
   "cell_type": "markdown",
   "metadata": {},
   "source": [
    "## Functions used: "
   ]
  },
  {
   "cell_type": "markdown",
   "metadata": {},
   "source": [
    "### 1. calNewGeoLocationNE(initialPOINT, yNORTH, xEAST):\n",
    "\n",
    "This function is used to calculate new GEO Point which is 'y' meters north and 'x' meters east of a Reference point.\n",
    "\n",
    "Knowing the lat/long of reference point and y and x distance , it returns a POINT class object with new location lat/long value.\n",
    "\n",
    "This function is an approximation therefore valid over small distances (1m to 1km). It is not valid when calculating points close to the earth poles."
   ]
  },
  {
   "cell_type": "code",
   "execution_count": 1,
   "metadata": {},
   "outputs": [],
   "source": [
    "def calNewGeoLocationNE(initialPOINT, yNORTH, xEAST):\n",
    "    \n",
    "\t#Radius of earth\n",
    "\tearthRad=6378137.0\n",
    "\n",
    "\t#New point offset calculated in radian\n",
    "\ttempLAT = yNORTH/earthRad\n",
    "\ttempLON = xEAST/(earthRad*math.cos(math.pi*initialPOINT.lat/180))\n",
    "\n",
    "\t#Now calculate the new point in decimal degrees\n",
    "\tfinalLAT = initialPOINT.lat + (tempLAT * 180/math.pi)\n",
    "\tfinalLON = initialPOINT.lon + (tempLON * 180/math.pi)\n",
    "\tfinalLOCATION = POINT(finalLAT,finalLON)\n",
    "\treturn finalLOCATION"
   ]
  },
  {
   "cell_type": "markdown",
   "metadata": {},
   "source": [
    "### 2. distanceBetweenTwoGeoPoints(locPOINT1, locPOINT2):\n",
    "\n",
    "This function calulates the ground distance between two points.\n",
    "\n",
    "This function is a approximation therefore valid for only short distance. \n"
   ]
  },
  {
   "cell_type": "code",
   "execution_count": 2,
   "metadata": {},
   "outputs": [],
   "source": [
    "def get_distance_metres(aLocation1, aLocation2):\n",
    "\tdisLatitude = locPOINT2.lat - locPOINT1.lat\n",
    "\tdisLongitude = locPOINT2.lon - locPOINT1.lon\n",
    "\treturn math.sqrt((disLatitude*disLatitude) + (disLongitude*disLongitude)) * 1.113195e5"
   ]
  },
  {
   "cell_type": "markdown",
   "metadata": {},
   "source": [
    "### 3. def generate_points(start_point,edge_size,seed_distance,polygon_hull)\n",
    "\n",
    "This function calculates the waypoints in a spiral manner for plantation of seeds in a square field.\n",
    "\n",
    "    Input:\n",
    "\t\talocation: location of centre of square in lat/lon\n",
    "\t\taSize: half the side of square\n",
    "\t\tseed_distance: distance between two waypoints or seed plantation distance\n",
    "\tOutput:\n",
    "\t\tA txt file named:  waypoint_square.txt, stores the waypoints generated in a sequence."
   ]
  },
  {
   "cell_type": "markdown",
   "metadata": {},
   "source": [
    "#### Opening the output file for writing purpose then calculating the left most bottom corner point of  square and adding first point to file."
   ]
  },
  {
   "cell_type": "code",
   "execution_count": 4,
   "metadata": {},
   "outputs": [],
   "source": [
    "def generate_points(aLocation,aSize,seed_distance):\n",
    "\n",
    "\tf = open(\"waypoint_square.txt\",\"w+\")\n",
    "\ttemp1 = calNewGeoLocationNE(aLocation, -aSize, -aSize)\n",
    "\tf.write(str(temp1.lat) + \",\" + str(temp1.lon) + '\\n')"
   ]
  },
  {
   "cell_type": "markdown",
   "metadata": {},
   "source": [
    "#### Here step size which is the number of jumps required to cover one side of the square = aSize/seed_distance."
   ]
  },
  {
   "cell_type": "markdown",
   "metadata": {},
   "source": [
    "#### Outer for loop moves us in horizontal direction i.e left - right.\n",
    "Here we move only halfway as we have two inner loops which traverse from bottom-top and top-bottom."
   ]
  },
  {
   "cell_type": "code",
   "execution_count": null,
   "metadata": {},
   "outputs": [],
   "source": [
    "\tfor i in range (aSize/seed_distance):\n",
    "\t\ttemp2 = temp1"
   ]
  },
  {
   "cell_type": "markdown",
   "metadata": {},
   "source": [
    "#### Inner for loop 1. it moves us from bottom-top.\n",
    "As we move from bottom to top we simultaniously add the points in our output file."
   ]
  },
  {
   "cell_type": "code",
   "execution_count": null,
   "metadata": {},
   "outputs": [],
   "source": [
    "\t\tfor j in range(2*aSize/seed_distance):\n",
    "\t\t\tnewpoint = calNewGeoLocationNE(temp2, seed_distance, 0)\n",
    "\t\t\ttemp2 = newpoint\n",
    "\t\t\tf.write(str(temp2.lat) + \",\" + str(temp2.lon) + '\\n')"
   ]
  },
  {
   "cell_type": "markdown",
   "metadata": {},
   "source": [
    "#### Right shift operation is done here.\n",
    "Here we make a move to the right and add the point to file. "
   ]
  },
  {
   "cell_type": "code",
   "execution_count": null,
   "metadata": {},
   "outputs": [],
   "source": [
    "\t\tshift1 = calNewGeoLocationNE(temp2, 0, seed_distance)\n",
    "\t\ttemp2  = shift1\n",
    "\t\tf.write(str(temp2.lat) + \",\" + str(temp2.lon) + '\\n')"
   ]
  },
  {
   "cell_type": "markdown",
   "metadata": {},
   "source": [
    "#### Inner loop 2. here the movement is top-bottom\n",
    "As we move from top to bottom we simultaniously add the points in our output file."
   ]
  },
  {
   "cell_type": "code",
   "execution_count": null,
   "metadata": {},
   "outputs": [],
   "source": [
    "\t\tfor j in range(2*aSize/seed_distance):\n",
    "\t\t\tnewpoint = calNewGeoLocationNE(temp2, -seed_distance, 0)\n",
    "\t\t\ttemp2 = newpoint\n",
    "\t\t\tf.write(str(temp2.lat) + \",\" + str(temp2.lon) + '\\n')"
   ]
  },
  {
   "cell_type": "markdown",
   "metadata": {},
   "source": [
    "#### Right shift operation is done here.\n",
    "Here we make a move to the right and add the point in our output file."
   ]
  },
  {
   "cell_type": "code",
   "execution_count": null,
   "metadata": {},
   "outputs": [],
   "source": [
    "\t\tshift2 = calNewGeoLocationNE(temp2, 0, seed_distance)\n",
    "\t\ttemp1 = shift2\n",
    "\t\tf.write(str(temp1.lat) + \",\" + str(temp1.lon) + '\\n')"
   ]
  },
  {
   "cell_type": "markdown",
   "metadata": {},
   "source": [
    "#### This loop computes the last waypoints along the last boundary of the convex structure."
   ]
  },
  {
   "cell_type": "markdown",
   "metadata": {},
   "source": [
    "In the above loops we move up-right-down-right. If we continue to move this way we will miss the last boundary of our square. So this loop does that for us.                           "
   ]
  },
  {
   "cell_type": "code",
   "execution_count": null,
   "metadata": {},
   "outputs": [],
   "source": [
    "\tfor j in range(2*aSize/seed_distance):\n",
    "\t\t\tnewpoint = calNewGeoLocationNE(temp1, seed_distance, 0)\n",
    "\t\t\ttemp1 = newpoint\n",
    "\t\t\tf.write(str(temp1.lat) + \",\" + str(temp1.lon) + '\\n')"
   ]
  },
  {
   "cell_type": "markdown",
   "metadata": {},
   "source": [
    "## Main Body: "
   ]
  },
  {
   "cell_type": "markdown",
   "metadata": {},
   "source": [
    "#### Taking user input for land info:\n",
    "User enters the latitude and longitude of the center of the land under consideration. We further check if the values entered is valid or not."
   ]
  },
  {
   "cell_type": "code",
   "execution_count": null,
   "metadata": {},
   "outputs": [],
   "source": [
    "print(\"   This code generates the required waypoint for the drone \\n\")\n",
    "print(\"Please enter the geo location of the centre of your field: \\n\")\n",
    "in_lat = 0.0\n",
    "in_lon = 0.0\n",
    "while True:\n",
    "\ttry:\n",
    "\t\tin_lat = float(input(\"Please enter the latitute of centre:\\n\"))\n",
    "\t\tif(in_lat<0 or in_lat>90):\n",
    "\t\t\tprint(\"Latitude value must be between 0 and 90\")\n",
    "\t\t\tcontinue\n",
    "\t\tin_lon = float(input(\"Please enter the longitude of centre:\\n\"))\n",
    "\t\tif(in_lon<0 or in_lon>180):\n",
    "\t\t\tprint(\"Langitude value must be between 0 and 180\")\n",
    "\t\t\tcontinue\n",
    "\t\tbreak\n",
    "\texcept:\n",
    "\t\tprint(\"Oops!  That was no valid lat/lon.  Try again...\")"
   ]
  },
  {
   "cell_type": "markdown",
   "metadata": {},
   "source": [
    "Create out custom POINT object for input:"
   ]
  },
  {
   "cell_type": "code",
   "execution_count": null,
   "metadata": {},
   "outputs": [],
   "source": [
    "initial_location = POINT(in_lat,in_lon)"
   ]
  },
  {
   "cell_type": "markdown",
   "metadata": {},
   "source": [
    "### Taking user input for size of land:\n",
    "\n",
    "User enters distance between the center and boundary of square land. \n",
    "We further check if the values entered is valid or not.\n"
   ]
  },
  {
   "cell_type": "code",
   "execution_count": null,
   "metadata": {},
   "outputs": [],
   "source": [
    "side_size = 0\n",
    "while True:\n",
    "\ttry:\n",
    "\t\tside_size = int(input(\"Please enter the distance between the center and field edge (i.e. side/2):\\n\"))\n",
    "\t\tbreak\n",
    "\texcept:\n",
    "\t\tprint(\"Oops!  Please insert positive interger value.  Try again...\")"
   ]
  },
  {
   "cell_type": "markdown",
   "metadata": {},
   "source": [
    "#### Taking the seed distance as an input from the user\n",
    "This distance plays a significant role while computing the waypoints. We also check if the distance is valid or not and display appropriate messages."
   ]
  },
  {
   "cell_type": "code",
   "execution_count": null,
   "metadata": {},
   "outputs": [],
   "source": [
    "distance = 0\n",
    "while True:\n",
    "\ttry:\n",
    "\t\tdistance = int(input(\"Please enter the distance between two waypoints:\\n\"))\n",
    "\t\tbreak\n",
    "\texcept:\n",
    "\t\tprint(\"Oops!  That was no valid distance.  Try again...\")"
   ]
  },
  {
   "cell_type": "markdown",
   "metadata": {},
   "source": [
    "#### Calling the required function."
   ]
  },
  {
   "cell_type": "code",
   "execution_count": null,
   "metadata": {},
   "outputs": [],
   "source": [
    "generate_points(initial_location,side_size,distance)\n",
    "print(\"\\n   Waypoints are generated and stored in waypoint_square.txt file. \\n\")"
   ]
  }
 ],
 "metadata": {
  "kernelspec": {
   "display_name": "Python 2",
   "language": "python",
   "name": "python2"
  },
  "language_info": {
   "codemirror_mode": {
    "name": "ipython",
    "version": 2
   },
   "file_extension": ".py",
   "mimetype": "text/x-python",
   "name": "python",
   "nbconvert_exporter": "python",
   "pygments_lexer": "ipython2",
   "version": "2.7.12"
  }
 },
 "nbformat": 4,
 "nbformat_minor": 4
}
