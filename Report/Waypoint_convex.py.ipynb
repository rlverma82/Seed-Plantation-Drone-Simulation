{
 "cells": [
  {
   "cell_type": "markdown",
   "metadata": {},
   "source": [
    "# waypoint_convex.py\n",
    "\n",
    "In this algorithm we try to fit a larger square on a convex structure and then traverse along the sides of the square in a zic- zac manner and while traversing check if the point lies within the convex structure or not. \n",
    "If it lies within the convex structure we add the point in our output file. \n",
    "Finally printing the output file."
   ]
  },
  {
   "cell_type": "markdown",
   "metadata": {},
   "source": [
    "### importing headers"
   ]
  },
  {
   "cell_type": "code",
   "execution_count": null,
   "metadata": {},
   "outputs": [],
   "source": [
    "from __future__ import print_function\n",
    "import math\n",
    "import numpy as np\n",
    "import os\n",
    "from shapely.geometry import Point\n",
    "from shapely.geometry.polygon import Polygon\n",
    "np.set_printoptions(precision=12)"
   ]
  },
  {
   "cell_type": "markdown",
   "metadata": {},
   "source": [
    "### Custom Class for taking lat/lon points\n",
    "\n",
    "LAT_LON class takes two parameters x and y and save them as lon and lat variables of the class object."
   ]
  },
  {
   "cell_type": "code",
   "execution_count": null,
   "metadata": {},
   "outputs": [],
   "source": [
    "class LAT_LON:\n",
    "\tdef __init__(self,x,y):\n",
    "\t\tself.lon = x\n",
    "\t\tself.lat = y"
   ]
  },
  {
   "cell_type": "markdown",
   "metadata": {},
   "source": [
    "## Functions used: "
   ]
  },
  {
   "cell_type": "markdown",
   "metadata": {},
   "source": [
    "### 1. def get_location_metres(original_location, dNorth, dEast)\n",
    "\n",
    "Returns a LAT_LON object containing the latitude/longitude `dNorth` and `dEast` metres from the specified `original_location`.\n",
    "The function is useful when you want to move the vehicle around specifying locations relative to the current vehicle position.\n",
    "This function is relatively accurate over small distances (10m within 1km) except close to the poles.\n",
    "\n",
    "Reference:http://gis.stackexchange.com/questions/2951/algorithm-for-offsetting-a-latitude-longitude-by-some-amount-of-meters"
   ]
  },
  {
   "cell_type": "code",
   "execution_count": 1,
   "metadata": {},
   "outputs": [],
   "source": [
    "def get_location_metres(original_location, dNorth, dEast):\n",
    "    \n",
    "\t#Radius of \"spherical\" earth\n",
    "\tearth_radius=6378137.0\n",
    "\n",
    "\t#Coordinate offsets in radians\n",
    "\tdLat = dNorth/earth_radius\n",
    "\tdLon = dEast/(earth_radius*math.cos(math.pi*original_location.lat/180))\n",
    "\n",
    "\t#New position in decimal degrees\n",
    "\tnewlat = original_location.lat + (dLat * 180/math.pi)\n",
    "\tnewlon = original_location.lon + (dLon * 180/math.pi)\n",
    "\tnew_location = LAT_LON(newlon,newlat)\n",
    "\treturn new_location"
   ]
  },
  {
   "cell_type": "markdown",
   "metadata": {},
   "source": [
    "### 2. def get_distance_metres(aLocation1, aLocation2)\n",
    "\n",
    "Returns the ground distance in metres between two LAT_LON objects. \n",
    "This method is an approximation, and will not be accurate over large distances and close to the earth's poles. \n",
    "\n",
    " Reference: https://github.com/diydrones/ardupilot/blob/master/Tools/autotest/common.py "
   ]
  },
  {
   "cell_type": "code",
   "execution_count": 2,
   "metadata": {},
   "outputs": [],
   "source": [
    "def get_distance_metres(aLocation1, aLocation2):\n",
    "\n",
    "\tdlat = aLocation2.lat - aLocation1.lat\n",
    "\tdlong = aLocation2.lon - aLocation1.lon\n",
    "\treturn math.sqrt((dlat*dlat) + (dlong*dlong)) * 1.113195e5"
   ]
  },
  {
   "cell_type": "markdown",
   "metadata": {},
   "source": [
    "### 3. def generate_points(start_point,edge_size,seed_distance,polygon_hull)\n",
    "\n",
    "This function calculates the waypoints in a spiral manner for plantation of seeds in a convex field.\n",
    "\t\n",
    "    Input: \n",
    "\t\tstart_point: location of starting point of fitted square in lat/lon\n",
    "\t\tedge_size: side length of square fitted on convex  figure\n",
    "\t\tseed_distance: distance between two waypoints or seed plantation distance\n",
    "        polygon_hull: A shapely Polygon object that contains the  actual convex figure\n",
    "\t\n",
    "    Output:\n",
    "\t\tA txt file named:  waypoint_convex.txt, stores the waypoints generated in a sequence. "
   ]
  },
  {
   "cell_type": "markdown",
   "metadata": {},
   "source": [
    "#### Opening the output file for writing purpose and checking if the initial point lies within the convex structure, if so add it to the output file as seed must be thrown on this spot.  "
   ]
  },
  {
   "cell_type": "code",
   "execution_count": 4,
   "metadata": {},
   "outputs": [],
   "source": [
    "def generate_points(start_point,edge_size,seed_distance,polygon_hull):\n",
    "\toutput_file = open(\"waypoint_convex.txt\",\"w+\")\n",
    "\tfunc_tempVar1 = start_point\n",
    "\tshapely_tempVar1 = Point(func_tempVar1.lon,func_tempVar1.lat)\n",
    "\tif (polygon_hull.contains(shapely_tempVar1) or shapely_tempVar1.within(polygon_hull) or polygon_hull.touches(shapely_tempVar1) ):\n",
    "\t\toutput_file.write(str(func_tempVar1.lat) + \",\" + str(func_tempVar1.lon) + '\\n')"
   ]
  },
  {
   "cell_type": "markdown",
   "metadata": {},
   "source": [
    "#### Adjusting the step size which is the number of jumps required to cover one side of the square."
   ]
  },
  {
   "cell_type": "code",
   "execution_count": null,
   "metadata": {},
   "outputs": [],
   "source": [
    "\tstep_size = edge_size/seed_distance"
   ]
  },
  {
   "cell_type": "markdown",
   "metadata": {},
   "source": [
    "#### Outer for loop moves us in horizontal direction i.e left - right.\n",
    "Here we move only halfway the stepsize as we have two inner loops which traverse from bottom-top and top-bottom."
   ]
  },
  {
   "cell_type": "code",
   "execution_count": null,
   "metadata": {},
   "outputs": [],
   "source": [
    "\tfor i in range (step_size/2):\n",
    "\t\tfunc_tempVar2 = func_tempVar1"
   ]
  },
  {
   "cell_type": "markdown",
   "metadata": {},
   "source": [
    "#### Inner for loop 1. it moves us from bottom-top.\n",
    "As we move from bottom to top we simultaniously check if the points lie within the convex structure if so we add them in our output file."
   ]
  },
  {
   "cell_type": "code",
   "execution_count": null,
   "metadata": {},
   "outputs": [],
   "source": [
    "\tfor i in range (step_size/2):\n",
    "\t\tfunc_tempVar2 = func_tempVar1\n",
    "\t\tfor j in range(step_size):\n",
    "\t\t\tfunc_newpoint = get_location_metres(func_tempVar2, seed_distance, 0)\n",
    "\t\t\tfunc_tempVar2 = func_newpoint\n",
    "\t\t\tshapely_tempVar1 = Point(func_tempVar2.lon,func_tempVar2.lat)\n",
    "\t\t\tif (polygon_hull.contains(shapely_tempVar1) or shapely_tempVar1.within(polygon_hull) or polygon_hull.touches(shapely_tempVar1) ):\n",
    "\t\t\t\toutput_file.write(str(func_tempVar2.lat) + \",\" + str(func_tempVar2.lon) + '\\n')"
   ]
  },
  {
   "cell_type": "markdown",
   "metadata": {},
   "source": [
    "#### Right shift operation is done here.\n",
    "Here we make a move to the right and check if the point lies inside or not. "
   ]
  },
  {
   "cell_type": "code",
   "execution_count": null,
   "metadata": {},
   "outputs": [],
   "source": [
    "\t\tfunc_shift1 = get_location_metres(func_tempVar2, 0, seed_distance)\n",
    "\t\tfunc_tempVar2 = func_shift1\n",
    "\t\tshapely_tempVar1 = Point(func_tempVar2.lon,func_tempVar2.lat)\n",
    "\t\tif (polygon_hull.contains(shapely_tempVar1) or shapely_tempVar1.within(polygon_hull) or polygon_hull.touches(shapely_tempVar1) ):\n",
    "\t\t\toutput_file.write(str(func_tempVar2.lat) + \",\" + str(func_tempVar2.lon) + '\\n')"
   ]
  },
  {
   "cell_type": "markdown",
   "metadata": {},
   "source": [
    "#### Inner loop 2. here the movement is top-bottom\n",
    "As we move from top to bottom we simultaniously check if the points lie within the convex structure if so we add them in our output file."
   ]
  },
  {
   "cell_type": "code",
   "execution_count": null,
   "metadata": {},
   "outputs": [],
   "source": [
    "\t\tfor j in range(step_size):\n",
    "\t\t\tfunc_newpoint = get_location_metres(func_tempVar2, -seed_distance, 0)\n",
    "\t\t\tfunc_tempVar2 = func_newpoint\n",
    "\t\t\tshapely_tempVar1 = Point(func_tempVar2.lon,func_tempVar2.lat)\n",
    "\t\t\tif (polygon_hull.contains(shapely_tempVar1) or shapely_tempVar1.within(polygon_hull) or polygon_hull.touches(shapely_tempVar1) ):\n",
    "\t\t\t\toutput_file.write(str(func_tempVar2.lat) + \",\" + str(func_tempVar2.lon) + '\\n')"
   ]
  },
  {
   "cell_type": "markdown",
   "metadata": {},
   "source": [
    "#### Right shift operation is done here.\n",
    "Here we make a move to the right and check if the point lies inside or not."
   ]
  },
  {
   "cell_type": "code",
   "execution_count": null,
   "metadata": {},
   "outputs": [],
   "source": [
    "\t\tfunc_shift2 = get_location_metres(func_tempVar2, 0, seed_distance)\n",
    "\t\tfunc_tempVar1 = func_shift2\n",
    "\t\tshapely_tempVar1 = Point(func_tempVar1.lon,func_tempVar1.lat)\n",
    "\t\tif (polygon_hull.contains(shapely_tempVar1) or shapely_tempVar1.within(polygon_hull) or polygon_hull.touches(shapely_tempVar1) ):\n",
    "\t\t\toutput_file.write(str(func_tempVar1.lat) + \",\" + str(func_tempVar1.lon) + '\\n')"
   ]
  },
  {
   "cell_type": "markdown",
   "metadata": {},
   "source": [
    "#### This loop computes the last waypoints along the last boundary of the convex structure."
   ]
  },
  {
   "cell_type": "markdown",
   "metadata": {},
   "source": [
    "In the above loops we move up-right-down-right. If we continue to move this way we will miss the last boundary of our square fitting our convex structure. So this loop does that for us.                           "
   ]
  },
  {
   "cell_type": "code",
   "execution_count": null,
   "metadata": {},
   "outputs": [],
   "source": [
    "\tfor j in range(step_size):\n",
    "\t\tfunc_newpoint = get_location_metres(func_tempVar1, seed_distance, 0)\n",
    "\t\tfunc_tempVar1 = func_newpoint\n",
    "\t\tshapely_tempVar1 = Point(func_tempVar1.lon,func_tempVar1.lat)\n",
    "\t\tif (polygon_hull.contains(shapely_tempVar1) or shapely_tempVar1.within(polygon_hull) or polygon_hull.touches(shapely_tempVar1) ):\n",
    "\t\t\toutput_file.write(str(func_tempVar1.lat) + \",\" + str(func_tempVar1.lon) + '\\n')"
   ]
  },
  {
   "cell_type": "markdown",
   "metadata": {},
   "source": [
    "## Main Body: "
   ]
  },
  {
   "cell_type": "markdown",
   "metadata": {},
   "source": [
    "#### Taking user input for the file_name\n",
    "This file contains the latitude and longitude of the land under consideration. We further check if the file name entered is valid or not."
   ]
  },
  {
   "cell_type": "code",
   "execution_count": null,
   "metadata": {},
   "outputs": [],
   "source": [
    "input_file = \"\"\n",
    "while True:\n",
    "\tinput_file = raw_input(\"Enter the file name with extension containing lat long of corners of polygon:\\n\")\n",
    "\tif os.path.exists(input_file):\n",
    "\t\tbreak\n",
    "\telse:\n",
    "\t\tprint(\"Enter file does not exists. Please re enter correct file\")\n",
    "\t\tcontinue"
   ]
  },
  {
   "cell_type": "markdown",
   "metadata": {},
   "source": [
    "#### Taking the seed distance as an input from the user\n",
    "This distance plays a significant role while computing the waypoints. We also check if the distance is valid or not and display appropriate messages."
   ]
  },
  {
   "cell_type": "code",
   "execution_count": null,
   "metadata": {},
   "outputs": [],
   "source": [
    "while True:\n",
    "\ttry:\n",
    "\t\tseed_distance = int(input(\"Please enter the distance between two waypoints:\\n\"))\n",
    "\t\tbreak\n",
    "\texcept:\n",
    "\t\tprint(\"Oops!  That was no valid distance.  Try again...\")"
   ]
  },
  {
   "cell_type": "markdown",
   "metadata": {},
   "source": [
    "#### Creating a latitude longitude list\n",
    "Here we read from the input file the latitude and longitude of the land under the consideration and add them to the latlon_list."
   ]
  },
  {
   "cell_type": "code",
   "execution_count": null,
   "metadata": {},
   "outputs": [],
   "source": [
    "latlon_list = []\n",
    "with open(input_file,\"r\") as input_f:\n",
    "\tfor line in input_f:\n",
    "\t\tcurrent_line = line.split(\",\")\n",
    "\t\tlatlon_list.append([float(current_line[1]),float(current_line[0])])"
   ]
  },
  {
   "cell_type": "markdown",
   "metadata": {},
   "source": [
    "#### Converting the latlon_list to a numpy array and contructing the convex hull using the function Polygon."
   ]
  },
  {
   "cell_type": "code",
   "execution_count": null,
   "metadata": {},
   "outputs": [],
   "source": [
    "latlon_num = np.array(latlon_list )#,dtype = np.float64)\n",
    "polygon_hull = Polygon(latlon_num)"
   ]
  },
  {
   "cell_type": "markdown",
   "metadata": {},
   "source": [
    "#### Finding the minimum and maximum co-ordinates.\n",
    "This helps us in find the square that is capable of containing the entire convex structure into it."
   ]
  },
  {
   "cell_type": "code",
   "execution_count": null,
   "metadata": {},
   "outputs": [],
   "source": [
    "min_col = np.amin(latlon_num,axis = 0)\n",
    "max_col = np.amax(latlon_num,axis = 0)"
   ]
  },
  {
   "cell_type": "markdown",
   "metadata": {},
   "source": [
    "#### Finding the 3 points using the min_col and max_col\n",
    "This helps us to get the side lenght of the largest square that can fit our convex structure."
   ]
  },
  {
   "cell_type": "code",
   "execution_count": null,
   "metadata": {},
   "outputs": [],
   "source": [
    "t1 = LAT_LON(min_col[0],min_col[1])\n",
    "t2 = LAT_LON(min_col[0],max_col[1])\n",
    "t3 = LAT_LON(max_col[0],min_col[1])"
   ]
  },
  {
   "cell_type": "markdown",
   "metadata": {},
   "source": [
    "#### Calling the get_distance_meters function.\n",
    "cal_d contains the maximum distance of the of the three points we computed, which ultimately helps us to get the side of the square. The above way point function works on an assumption that the lenght of the side of the square should be even. So we have placed a check for that."
   ]
  },
  {
   "cell_type": "code",
   "execution_count": null,
   "metadata": {},
   "outputs": [],
   "source": [
    "cal_d = max(get_distance_metres(t1,t2),get_distance_metres(t1,t3))\n",
    "total_step = math.ceil(cal_d/seed_distance)\n",
    "if total_step%2 == 0:\n",
    "\tcal_d = seed_distance*(total_step)\n",
    "else:\n",
    "\tcal_d = seed_distance*(total_step+1)"
   ]
  },
  {
   "cell_type": "markdown",
   "metadata": {},
   "source": [
    "#### Initialising the starting point for waypoint calculation and calling the required function."
   ]
  },
  {
   "cell_type": "code",
   "execution_count": null,
   "metadata": {},
   "outputs": [],
   "source": [
    "start_point = t1\n",
    "generate_points(start_point,int(cal_d),seed_distance,polygon_hull)\n",
    "print(\"\\n   Waypoints are generated and stored in waypoint_square.txt file. \\n\")"
   ]
  }
 ],
 "metadata": {
  "kernelspec": {
   "display_name": "Python 2",
   "language": "python",
   "name": "python2"
  },
  "language_info": {
   "codemirror_mode": {
    "name": "ipython",
    "version": 2
   },
   "file_extension": ".py",
   "mimetype": "text/x-python",
   "name": "python",
   "nbconvert_exporter": "python",
   "pygments_lexer": "ipython2",
   "version": "2.7.12"
  }
 },
 "nbformat": 4,
 "nbformat_minor": 4
}
