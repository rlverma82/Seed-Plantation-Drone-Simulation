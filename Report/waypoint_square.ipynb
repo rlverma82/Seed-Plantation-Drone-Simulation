{
 "cells": [
  {
   "cell_type": "markdown",
   "metadata": {},
   "source": [
    "# Documentation for waypoint_square.py"
   ]
  },
  {
   "cell_type": "markdown",
   "metadata": {},
   "source": [
    "## FUNCTIONS USED :-"
   ]
  },
  {
   "cell_type": "markdown",
   "metadata": {},
   "source": [
    "## 1. get_location_metres(original_location, dNorth, dEast):\n",
    "Returns a LocationGlobal object containing the latitude/longitude `dNorth` and `dEast` metres from the specified `original_location`.\n",
    "The function is useful when you want to move the vehicle around specifying locations relative to the current vehicle position.\n",
    "This function is relatively accurate over small distances (10m within 1km) except close to the poles.\n",
    "Reference: http://gis.stackexchange.com/questions/2951/algorithm-for-offsetting-a-latitude-longitude-by-some-amount-of-meters"
   ]
  },
  {
   "cell_type": "code",
   "execution_count": null,
   "metadata": {},
   "outputs": [],
   "source": [
    "def get_location_metres(original_location, dNorth, dEast):\n",
    "\t#Radius of \"spherical\" earth\n",
    "\tearth_radius=6378137.0\t\n",
    "\t\n",
    "\t#Coordinate offsets in radians\n",
    "\tdLat = dNorth/earth_radius\n",
    "\tdLon = dEast/(earth_radius*math.cos(math.pi*original_location.lat/180))\n",
    "\n",
    "\t#New position in decimal degrees\n",
    "\tnewlat = original_location.lat + (dLat * 180/math.pi)\n",
    "\tnewlon = original_location.lon + (dLon * 180/math.pi)\n",
    "\tnew_location = POINT(newlat,newlon)\n",
    "\treturn new_location"
   ]
  },
  {
   "cell_type": "markdown",
   "metadata": {},
   "source": [
    "## 2. get_distance_metres(aLocation1, aLocation2):\n",
    "Returns the ground distance in metres between two LocationGlobal objects.\n",
    "This method is an approximation, and will not be accurate over large distances and close to the earth's poles. \n",
    "Reference: https://github.com/diydrones/ardupilot/blob/master/Tools/autotest/common.py"
   ]
  },
  {
   "cell_type": "code",
   "execution_count": null,
   "metadata": {},
   "outputs": [],
   "source": [
    "def get_distance_metres(aLocation1, aLocation2):\n",
    "\tdlat = aLocation2.lat - aLocation1.lat\n",
    "\tdlong = aLocation2.lon - aLocation1.lon\n",
    "\treturn math.sqrt((dlat*dlat) + (dlong*dlong)) * 1.113195e5\n"
   ]
  },
  {
   "cell_type": "markdown",
   "metadata": {},
   "source": [
    "## 3. generate_points(aLocation,aSize,seed_distance):\n",
    "This function calculates the waypoints in a spiral manner for plantation of seeds in a square field.\n",
    "\n",
    "Input: \n",
    "\t\t\n",
    "        alocation: location of centre of square in lat/lon\n",
    "\t\taSize: half the side of square\n",
    "\t\tseed_distance: distance between two waypoints or seed plantation distance \n",
    "\n",
    "Output:\n",
    "\t\t\n",
    "        A txt file named:  waypoint_square.txt, stores the waypoints generated in a sequence."
   ]
  },
  {
   "cell_type": "code",
   "execution_count": null,
   "metadata": {},
   "outputs": [],
   "source": [
    "f = open(\"waypoint_square.txt\",\"w+\")\t\n",
    "\tpoint1 = get_location_metres(aLocation, -aSize, -aSize)\n",
    "\tpoint2 = get_location_metres(aLocation, aSize, -aSize)\n",
    "\tpoint3 = get_location_metres(aLocation, aSize, aSize)\n",
    "\tpoint4 = get_location_metres(aLocation, -aSize, aSize)\t\n",
    "\ttemp1 = point1\n",
    "\tf.write(str(temp1.lat) + \",\" + str(temp1.lon) + '\\n')\n",
    "\tfor i in range (aSize/seed_distance):\n",
    "\t\ttemp2 = temp1\n",
    "\t\tfor j in range(2*aSize/seed_distance):\n",
    "\t\t\tnewpoint = get_location_metres(temp2, seed_distance, 0)\n",
    "\t\t\ttemp2 = newpoint\n",
    "\t\t\tf.write(str(temp2.lat) + \",\" + str(temp2.lon) + '\\n')\t\t\n",
    "\t\tshift1 = get_location_metres(temp2, 0, seed_distance)\n",
    "\t\ttemp2  = shift1\n",
    "\t\tf.write(str(temp2.lat) + \",\" + str(temp2.lon) + '\\n')\n",
    "\t\t\n",
    "\n",
    "\t\tfor j in range(2*aSize/seed_distance):\n",
    "\t\t\tnewpoint = get_location_metres(temp2, -seed_distance, 0)\n",
    "\t\t\ttemp2 = newpoint\n",
    "\t\t\tf.write(str(temp2.lat) + \",\" + str(temp2.lon) + '\\n')\n",
    "\t\tshift2 = get_location_metres(temp2, 0, seed_distance)\n",
    "\t\ttemp1 = shift2\n",
    "\t\tf.write(str(temp1.lat) + \",\" + str(temp1.lon) + '\\n')\n",
    "\tfor j in range(2*aSize/seed_distance):\n",
    "\t\t\tnewpoint = get_location_metres(temp1, seed_distance, 0)\n",
    "\t\t\ttemp1 = newpoint\n",
    "\t\t\tf.write(str(temp1.lat) + \",\" + str(temp1.lon) + '\\n')\t\n",
    "\t\n",
    "\n",
    "print(\"   This code generates the required waypoint for the drone \\n\")\n",
    "print(\"Please enter the geo location of the centre of your field: \\n\")\n",
    "in_lat = 0.0\n",
    "in_lon = 0.0\n",
    "while True:\n",
    "\ttry:\n",
    "\t\tin_lat = float(input(\"Please enter the latitute of centre:\\n\"))\n",
    "\t\tif(in_lat<0 or in_lat>90):\n",
    "\t\t\tprint(\"Latitude value must be between 0 and 90\")\t\t\t\n",
    "\t\t\tcontinue\n",
    "\t\tin_lon = float(input(\"Please enter the longitude of centre:\\n\"))\n",
    "\t\tif(in_lon<0 or in_lon>180):\n",
    "\t\t\tprint(\"Langitude value must be between 0 and 180\")\n",
    "\t\t\tcontinue\t\t\n",
    "\t\tbreak\n",
    "\texcept:\n",
    "\t\tprint(\"Oops!  That was no valid lat/lon.  Try again...\")\n",
    "\t\t\n",
    "initial_location = POINT(in_lat,in_lon)\n",
    "side_size = 0\n",
    "while True:\n",
    "\ttry:\n",
    "\t\tside_size = int(input(\"Please enter the distance between the center and field edge (i.e. side/2):\\n\"))\n",
    "\t\tbreak\n",
    "\texcept:\n",
    "\t\tprint(\"Oops!  Please insert positive interger value.  Try again...\")\n",
    "\n",
    "distance = 0\n",
    "while True:\n",
    "\ttry:\n",
    "\t\tdistance = int(input(\"Please enter the distance between two waypoints:\\n\"))\n",
    "\t\tbreak\n",
    "\texcept:\n",
    "\t\tprint(\"Oops!  That was no valid distance.  Try again...\")\n",
    "\t\t\n",
    "generate_points(initial_location,side_size,distance)\n",
    "print(\"\\n   Waypoints are generated and stored in waypoint_square.txt file. \\n\")"
   ]
  }
 ],
 "metadata": {
  "kernelspec": {
   "display_name": "Python 3",
   "language": "python",
   "name": "python3"
  },
  "language_info": {
   "codemirror_mode": {
    "name": "ipython",
    "version": 3
   },
   "file_extension": ".py",
   "mimetype": "text/x-python",
   "name": "python",
   "nbconvert_exporter": "python",
   "pygments_lexer": "ipython3",
   "version": "3.7.3"
  }
 },
 "nbformat": 4,
 "nbformat_minor": 2
}
