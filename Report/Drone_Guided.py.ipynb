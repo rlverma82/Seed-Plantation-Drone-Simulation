{
 "cells": [
  {
   "cell_type": "markdown",
   "metadata": {},
   "source": [
    "# drone_Guided.py"
   ]
  },
  {
   "cell_type": "markdown",
   "metadata": {},
   "source": [
    "### Importing header files:"
   ]
  },
  {
   "cell_type": "code",
   "execution_count": null,
   "metadata": {},
   "outputs": [],
   "source": [
    "from __future__ import print_function\n",
    "from dronekit import connect, Command, VehicleMode, LocationGlobalRelative, LocationGlobal\n",
    "from pymavlink import mavutil\n",
    "import os\n",
    "import json, urllib, math\n",
    "import time\n",
    "import logging , logging.handlers"
   ]
  },
  {
   "cell_type": "markdown",
   "metadata": {},
   "source": [
    "### Logging configuration:"
   ]
  },
  {
   "cell_type": "code",
   "execution_count": null,
   "metadata": {},
   "outputs": [],
   "source": [
    "logging.basicConfig(filename = \"Master.log\" , level = logging.DEBUG , format = \"%(levelname)s: %(filename)s: %(module)s: %(funcName)s: %(lineno)d: \t\t\t%(message)s\")\n",
    "logger = logging.getLogger(__name__)\n",
    "logger.setLevel(logging.DEBUG)\n",
    "logFile_handler = logging.FileHandler(\"drone_seed_GUIDED.log\")\n",
    "logFile_handler.setLevel(logging.DEBUG)\n",
    "logFile_streamHandler = logging.StreamHandler()\n",
    "logFile_streamHandler.setLevel(logging.ERROR)\n",
    "logging_formatter = logging.Formatter(\"%(levelname)s: %(filename)s: %(module)s: %(funcName)s: %(lineno)d: \t\t\t%(message)s\")\n",
    "logFile_handler.setFormatter(logging_formatter)\n",
    "logFile_streamHandler.setFormatter(logging_formatter)\n",
    "logger.addHandler(logFile_handler)\n",
    "logger.addHandler(logFile_streamHandler)\n"
   ]
  },
  {
   "cell_type": "markdown",
   "metadata": {},
   "source": [
    "### Custom Class for taking lat/lon and alt points\n",
    "\n",
    "LAT_LON_ALT class takes three parameters x,y and z save them as lon,lat and alt variables of the class object."
   ]
  },
  {
   "cell_type": "code",
   "execution_count": null,
   "metadata": {},
   "outputs": [],
   "source": [
    "class LAT_LON_ALT:\n",
    "        def __init__(self,x,y,z):\n",
    "                self.lon = x\n",
    "                self.lat = y\n",
    "                self.alt = z\n"
   ]
  },
  {
   "cell_type": "markdown",
   "metadata": {},
   "source": [
    "## Functions Used:"
   ]
  },
  {
   "cell_type": "markdown",
   "metadata": {},
   "source": [
    "### 1.   get_location_metres(original_location, dNorth, dEast):\n",
    "Returns a LAT_LON_ALT object containing the latitude/longitude and altitude `dNorth` and `dEast` metres from the specified `original_location`. The function is useful when you want to move the vehicle around specifying locations relative to the current vehicle position. This function is relatively accurate over small distances (10m within 1km) except close to the poles.\n",
    "\n",
    "The function does not change the altitude value\n",
    "\n",
    "Reference:\n",
    "\thttp://gis.stackexchange.com/questions/2951/algorithm-for-offsetting-a-latitude-longitude-by-some-amount-of-meters"
   ]
  },
  {
   "cell_type": "code",
   "execution_count": null,
   "metadata": {},
   "outputs": [],
   "source": [
    "def get_location_metres(original_location, dNorth, dEast):\n",
    "        #Radius of \"spherical\" earth\n",
    "        earth_radius=6378137.0\n",
    "\n",
    "        #Coordinate offsets in radians\n",
    "        dLat = dNorth/earth_radius\n",
    "        dLon = dEast/(earth_radius*math.cos(math.pi*original_location.lat/180))\n",
    "\n",
    "        #New position in decimal degrees\n",
    "        newlat = original_location.lat + (dLat * 180/math.pi)\n",
    "        newlon = original_location.lon + (dLon * 180/math.pi)\n",
    "        new_location = LAT_LON_ALT(newlon,newlat,original_location.alt)\n",
    "        return new_location\n"
   ]
  },
  {
   "cell_type": "markdown",
   "metadata": {},
   "source": [
    "### 2.   get_distance_metres(aLocation1, aLocation2):\n",
    "\n",
    "Returns the ground distance in metres between two LAT_LON_ALT objects.\n",
    "\n",
    "This method is an approximation, and will not be accurate over large distances and close to the earth's poles.\n",
    "\n",
    "Reference:\n",
    "https://github.com/diydrones/ardupilot/blob/master/Tools/autotest/common.py\n"
   ]
  },
  {
   "cell_type": "code",
   "execution_count": null,
   "metadata": {},
   "outputs": [],
   "source": [
    "def get_distance_metres(aLocation1, aLocation2):\n",
    "    dlat = aLocation2.lat - aLocation1.lat\n",
    "    dlong = aLocation2.lon - aLocation1.lon\n",
    "    return math.sqrt((dlat*dlat) + (dlong*dlong)) * 1.113195e5"
   ]
  },
  {
   "cell_type": "markdown",
   "metadata": {},
   "source": [
    "### 3. arm_and_takeoff(aTargetAltitude):\n",
    "\n",
    "Arms vehicle and fly to a target altitude."
   ]
  },
  {
   "cell_type": "code",
   "execution_count": null,
   "metadata": {},
   "outputs": [],
   "source": [
    "def arm_and_takeoff(aTargetAltitude):\n",
    "    # Don't try to arm until autopilot is ready\n",
    "        while not vehicle.is_armable:\n",
    "            logger.warning(\" Waiting for vehicle to initialise...\")\n",
    "            time.sleep(1)\n",
    "        # Set mode to GUIDED for arming and takeoff:\n",
    "        while (vehicle.mode.name != \"GUIDED\"):\n",
    "            vehicle.mode = VehicleMode(\"GUIDED\")\n",
    "            time.sleep(0.1)\n",
    "        # Confirm vehicle armed before attempting to take off\n",
    "        while not vehicle.armed:\n",
    "            vehicle.armed = True\n",
    "            logger.warning(\" Waiting for arming...\")\n",
    "            time.sleep(1)\n",
    "        print(\"Taking off!\")\n",
    "        logger.info(\"Taking off!\")\n",
    "        vehicle.simple_takeoff(aTargetAltitude) # Take off to target altitude\n",
    "\n",
    "        # Wait until the vehicle reaches a safe height\n",
    "        # before allowing next command to process.\n",
    "        while True:\n",
    "            requiredAlt = aTargetAltitude*0.95\n",
    "            #Break and return from function just below target altitude.\n",
    "            if vehicle.location.global_relative_frame.alt>=requiredAlt:\n",
    "                print(\"Reached target altitude of %f\" % (aTargetAltitude))\n",
    "                logger.info(\"Reached target altitude of %f\" % (aTargetAltitude))\n",
    "                break\n",
    "            logger.info(\"Altitude: %f < %f\" % (vehicle.location.global_relative_frame.alt,requiredAlt))\n",
    "            time.sleep(1)\n"
   ]
  },
  {
   "cell_type": "markdown",
   "metadata": {},
   "source": [
    "### 4. goto(targetLocation):\n",
    "\n",
    "Send SET_POSITION_TARGET_GLOBAL_INT command to request the vehicle fly to a specified LocationGlobal.\n",
    "At time of writing, acceleration and yaw bits are ignored.\n",
    "\n",
    "    msg = vehicle.message_factory.set_position_target_global_int_encode(\n",
    "        0,       # time_boot_ms (not used)\n",
    "        0, 0,    # target system, target component\n",
    "        mavutil.mavlink.MAV_FRAME_GLOBAL_RELATIVE_ALT_INT, # frame\n",
    "        0b0000111111111000, # type_mask (only speeds enabled)\n",
    "        aLocation.lat, # lat_int - X Position in WGS84 frame in 1e7 * meters\n",
    "        aLocation.lon, # lon_int - Y Position in WGS84 frame in 1e7 * meters\n",
    "        aLocation.alt, # alt - Altitude in meters in AMSL altitude, not WGS84 if absolute or relative, above  terrain if GLOBAL_TERRAIN_ALT_INT\n",
    "        0, # X velocity in NED frame in m/s\n",
    "        0, # Y velocity in NED frame in m/s\n",
    "        0, # Z velocity in NED frame in m/s\n",
    "        0, 0, 0, # afx, afy, afz acceleration (not supported yet, ignored in GCS_Mavlink)\n",
    "        0, 0)    # yaw, yaw_rate (not supported yet, ignored in GCS_Mavlink)\n"
   ]
  },
  {
   "cell_type": "markdown",
   "metadata": {},
   "source": [
    "At first we store the target location in Vehicle Global Relative Frame object and calculate the target distance.\n",
    "\n",
    "Then using the mavlink and vehicle message factory send command to drone to move to next target location.\n",
    "\n",
    "There is another way to send command to drone by using the inbuild function vehicle_simple_goto(). (But we are using our custom command)\n",
    "\n",
    "Note: Take care of the coordinate system followed by different msg command (like WGS84 or Lat/lon system etc)"
   ]
  },
  {
   "cell_type": "code",
   "execution_count": null,
   "metadata": {},
   "outputs": [],
   "source": [
    "def goto(targetLocation):\n",
    "        # send command to vehicle\n",
    "        logger.debug(\"Target location lat: %f , lon: %f , alt: %f\" % (targetLocation.lat,targetLocation.lon,targetLocation.alt))\n",
    "        vc_in_loc = vehicle.location.global_relative_frame\n",
    "        vehicle_initialLocation = LAT_LON_ALT(vc_in_loc.lon,vc_in_loc.lat,vc_in_loc.alt)\n",
    "        targetDistance = get_distance_metres(vehicle_initialLocation, targetLocation)\n",
    "        msg = vehicle.message_factory.set_position_target_global_int_encode( 0, 0, 0, mavutil.mavlink.MAV_FRAME_GLOBAL_RELATIVE_ALT_INT, 0b0000111111111000, targetLocation.lat*1e7, targetLocation.lon*1e7, targetLocation.alt, 0, 0, 0, 0, 0, 0, 0, 0)\n",
    "        vehicle.send_mavlink(msg)\n",
    "        logger.debug(\"Send Command Message to drone\")\n",
    "        # target = LocationGlobal(targetLocation.lat,targetLocation.lon,targetLocation.alt)\n",
    "        # vehicle.airspeed=15\n",
    "        # vehicle.simple_goto(target)"
   ]
  },
  {
   "cell_type": "markdown",
   "metadata": {},
   "source": [
    "#### CRITICAL : \n",
    "There may be case that our msg command send above is dropped due to network failure. In that case drone will be stuck at a point.\n",
    "\n",
    "To handle this we monitor the drone for 5 sec after sending the command. If drone doesnot move (i.e. targetDistance is  still greater than 90% of that of at first sec) then we resend  the msg command to drone.\n",
    "\n",
    "Following code even handle the drone Mode change if any."
   ]
  },
  {
   "cell_type": "code",
   "execution_count": null,
   "metadata": {},
   "outputs": [],
   "source": [
    "        fiveSecondCheck = targetDistance\n",
    "        fiveCounter = 1\n",
    "        logger.debug(\"fiveSecondCheck distance: %f \" % (fiveSecondCheck))\n",
    "        logger.debug(\"fiveCounter value: %d \" % (fiveCounter))\n",
    "        while True:\n",
    "            logger.debug(\"mode: %s\" % vehicle.mode.name) #Stop action if we are no longer in guided mode.\n",
    "            while (vehicle.mode.name != \"GUIDED\"):\n",
    "                vehicle.mode = VehicleMode(\"GUIDED\")\n",
    "                time.sleep(0.1)\n",
    "\n",
    "            if fiveCounter == 1:\n",
    "                vc_loc = vehicle.location.global_relative_frame\n",
    "                vehicle_currentLocation = LAT_LON_ALT(vc_loc.lon,vc_loc.lat,vc_loc.alt)\n",
    "                fiveSecondCheck = get_distance_metres(vehicle_currentLocation, targetLocation)\n",
    "                logger.debug(\"fiveSecondCheck distance: %f \" % (fiveSecondCheck))\n",
    "                logger.debug(\"fiveCounter value: %d \" % (fiveCounter))\n",
    "\n",
    "            if fiveCounter >=5:\n",
    "                logger.debug(\"fiveSecondCheck distance: %f \" % (fiveSecondCheck))\n",
    "                logger.debug(\"fiveCounter value: %d \" % (fiveCounter))\n",
    "                fiveCounter = 1\n",
    "                vc_loc = vehicle.location.global_relative_frame\n",
    "                vehicle_currentLocation = LAT_LON_ALT(vc_loc.lon,vc_loc.lat,vc_loc.alt)\n",
    "                currentDistanceToTarget = get_distance_metres(vehicle_currentLocation, targetLocation)\n",
    "                logger.debug(\"fiveSecondCheck currentDistanceToTarget distance: %f \" % (currentDistanceToTarget))\n",
    "                if currentDistanceToTarget >= 0.9* fiveSecondCheck:\n",
    "                    #resend the msg command to drone\n",
    "                    vehicle.send_mavlink(msg)\n",
    "                    logger.critical(\"Last command message dropped. Resending the command message to drone\")\n",
    "                    logger.debug(\"Resend the command message to drone.\")\n",
    "\n",
    "            vc_loc = vehicle.location.global_relative_frame\n",
    "            vehicle_currentLocation = LAT_LON_ALT(vc_loc.lon,vc_loc.lat,vc_loc.alt)\n",
    "            remainingDistance=get_distance_metres(vehicle_currentLocation, targetLocation)\n",
    "            logger.info(\"Distance to target: %f\" % (remainingDistance))\n",
    "            print(\"Distance to target: %f\" % (remainingDistance))\n",
    "            if remainingDistance <= 1: #Just below target, in case of undershoot.\n",
    "                logger.info(\"Reached target\")\n",
    "                break\n",
    "            fiveCounter += 1\n",
    "            time.sleep(1)\n"
   ]
  },
  {
   "cell_type": "markdown",
   "metadata": {},
   "source": [
    "### 5. print_vehicle_attributes():\n",
    "This function list all the attributes of the vehicle and stores it in log file:"
   ]
  },
  {
   "cell_type": "code",
   "execution_count": null,
   "metadata": {},
   "outputs": [],
   "source": [
    "def print_vehicle_attributes():\n",
    "        logger.info(\"Autopilot Firmware version: %s\" % vehicle.version)\n",
    "        logger.info(\"Autopilot capabilities (supports ftp): %s\" % vehicle.capabilities.ftp)\n",
    "        logger.info(\"Global Location:%s\" % vehicle.location.global_frame)\n",
    "        logger.info(\"Global Location (relative altitude): %s\" % vehicle.location.global_relative_frame)\n",
    "        logger.info(\"Local Location: %s\" % vehicle.location.local_frame)\n",
    "        logger.info(\"Attitude: %s\" % vehicle.attitude)\n",
    "        logger.info(\"Velocity: %s\" % vehicle.velocity)\n",
    "        logger.info(\"GPS: %s\" % vehicle.gps_0)\n",
    "        logger.info(\"Groundspeed: %s\" % vehicle.groundspeed)\n",
    "        logger.info(\"Airspeed: %s\" % vehicle.airspeed)\n",
    "        logger.info(\"Gimbal status: %s\" % vehicle.gimbal)\n",
    "        logger.info(\"Battery: %s\" % vehicle.battery)\n",
    "        logger.info(\"EKF OK?: %s\" % vehicle.ekf_ok)\n",
    "        logger.info(\"Last Heartbeat: %s\" % vehicle.last_heartbeat)\n",
    "        logger.info(\"Rangefinder: %s\" % vehicle.rangefinder)\n",
    "        logger.info(\"Rangefinder distance: %s\" % vehicle.rangefinder.distance)\n",
    "        logger.info(\"Rangefinder voltage: %s\" % vehicle.rangefinder.voltage)\n",
    "        logger.info(\"Heading: %s\" % vehicle.heading)\n",
    "        logger.info(\"Is Armable?: %s\" % vehicle.is_armable)\n",
    "        logger.info(\"System status: %s\" % vehicle.system_status.state)\n",
    "        logger.info(\"Mode: %s\" % vehicle.mode.name)\n",
    "        logger.info(\"Armed: %s\" % vehicle.armed)\n"
   ]
  },
  {
   "cell_type": "markdown",
   "metadata": {},
   "source": [
    "### 6. print_vehicle_parameters():\n",
    "This function list all the parameters of the vehicle and stores it in log file."
   ]
  },
  {
   "cell_type": "code",
   "execution_count": null,
   "metadata": {},
   "outputs": [],
   "source": [
    "def print_vehicle_parameters():\n",
    "        logger.info (\"Print all parameters (`vehicle.parameters`):\")\n",
    "        for key, value in vehicle.parameters.iteritems():\n",
    "            logger.info (\" Key:%s Value:%s\" % (key,value))"
   ]
  },
  {
   "cell_type": "markdown",
   "metadata": {},
   "source": [
    "### 7. startMission(startingLocation):\n",
    "This function controls the planned mission of drone.\n",
    "Collect all the waypoints from the file and use goto() function to give commands to drone.\n",
    "\n",
    "Once the drone reaches the required location we can drop the seed."
   ]
  },
  {
   "cell_type": "code",
   "execution_count": null,
   "metadata": {},
   "outputs": [],
   "source": [
    "def startMission(startingLocation):\n",
    "        with open(waypoint_file,\"r\") as waypointFile:\n",
    "            for pt in waypointFile:\n",
    "                current_line = pt.split(\",\")\n",
    "                nextLocation = LAT_LON_ALT(float(current_line[1]),float(current_line[0]),startingLocation.alt)\n",
    "                logger.debug(\"Next location lat: %f , lon: %f , alt: %f\",nextLocation.lat,nextLocation.lon,nextLocation.alt)\n",
    "                goto(nextLocation)\n",
    "                print(\"Dropping Seed\")\n",
    "                logger.info(\"Dropping Seed\")\n",
    "        waypointFile.close()"
   ]
  },
  {
   "cell_type": "markdown",
   "metadata": {},
   "source": [
    "## Main Body :"
   ]
  },
  {
   "cell_type": "code",
   "execution_count": null,
   "metadata": {},
   "outputs": [],
   "source": [
    "startingLocation = LAT_LON_ALT(0.0,0.0,0.0) #startingLocation variable\n",
    "waypoint_file = \"\"\t#stores the waypoint file name"
   ]
  },
  {
   "cell_type": "markdown",
   "metadata": {},
   "source": [
    "Takes the lat lon and alt value from USER\n"
   ]
  },
  {
   "cell_type": "code",
   "execution_count": null,
   "metadata": {},
   "outputs": [],
   "source": [
    "while True:\n",
    "        try:\n",
    "            startingLocation.lat = float(input(\"Please enter the latitute of starting point:\\n\"))\n",
    "            logger.debug(\"USER entered latitute value: %s\",str(startingLocation.lat))\n",
    "            if(startingLocation.lat<0 or startingLocation.lat>90):\n",
    "                print(\"Latitude value must be between 0 and 90\")\n",
    "                continue\n",
    "            startingLocation.lon = float(input(\"Please enter the longitude of starting point:\\n\"))\n",
    "            logger.debug(\"USER entered longitude value: %s\",str(startingLocation.lon))\n",
    "            if(startingLocation.lon<0 or startingLocation.lon>180):\n",
    "                print(\"Langitude value must be between 0 and 180\")\n",
    "                continue\n",
    "            startingLocation.alt = float(input(\"Please enter the altitude for the drone:\\n\"))\n",
    "            logger.debug(\"USER entered altitude value: %s\",str(startingLocation.alt))\n",
    "            if(startingLocation.alt<0):\n",
    "                print(\"Altitude value must be positive\")\n",
    "                continue\n",
    "            break\n",
    "        except:\n",
    "            logger.error(\"Oops!  That was no valid lat/lon or altitude.  Try again...\")"
   ]
  },
  {
   "cell_type": "markdown",
   "metadata": {},
   "source": [
    "Takes the waypoint file name from USER"
   ]
  },
  {
   "cell_type": "code",
   "execution_count": null,
   "metadata": {},
   "outputs": [],
   "source": [
    "while True:\n",
    "        waypoint_file = raw_input(\"Enter the waypoint file name with extension:\\n\")\n",
    "        if os.path.exists(waypoint_file):\n",
    "            break\n",
    "        else:\n",
    "            print(\"Enter file does not exists. Please re enter correct file\")\n",
    "            logger.error(\"Enter file does not exists.\")\n",
    "            continue"
   ]
  },
  {
   "cell_type": "markdown",
   "metadata": {},
   "source": [
    "Set up option parsing to get connection string\n"
   ]
  },
  {
   "cell_type": "code",
   "execution_count": null,
   "metadata": {},
   "outputs": [],
   "source": [
    "import argparse\n",
    "parser = argparse.ArgumentParser(description='Demonstrates Seed Plantation Mission in GUIDED mode.')\n",
    "parser.add_argument('--connect', help=\"vehicle connection target string. If not specified, SITL automatically started and used.\")\n",
    "args = parser.parse_args()\n",
    "connection_string = args.connect\n",
    "sitl = None"
   ]
  },
  {
   "cell_type": "markdown",
   "metadata": {},
   "source": [
    "Start SITL if no connection string specified"
   ]
  },
  {
   "cell_type": "code",
   "execution_count": null,
   "metadata": {},
   "outputs": [],
   "source": [
    "if not connection_string:\n",
    "        import dronekit_sitl\n",
    "        sitl = dronekit_sitl.start_default(lat=startingLocation.lat,lon=startingLocation.lon)\n",
    "        connection_string = sitl.connection_string()"
   ]
  },
  {
   "cell_type": "markdown",
   "metadata": {},
   "source": [
    "Connect to the Vehicle"
   ]
  },
  {
   "cell_type": "code",
   "execution_count": null,
   "metadata": {},
   "outputs": [],
   "source": [
    "print('Connecting to vehicle on: %s' % connection_string)\n",
    "logger.info('Connecting to vehicle on: %s' % connection_string)\n",
    "vehicle = connect(connection_string, wait_ready=True)"
   ]
  },
  {
   "cell_type": "markdown",
   "metadata": {},
   "source": [
    "Log vehicle attributes:"
   ]
  },
  {
   "cell_type": "code",
   "execution_count": null,
   "metadata": {},
   "outputs": [],
   "source": [
    "print_vehicle_attributes()"
   ]
  },
  {
   "cell_type": "markdown",
   "metadata": {},
   "source": [
    "Log vehicle parameters:"
   ]
  },
  {
   "cell_type": "code",
   "execution_count": null,
   "metadata": {},
   "outputs": [],
   "source": [
    "print_vehicle_parameters()"
   ]
  },
  {
   "cell_type": "code",
   "execution_count": null,
   "metadata": {},
   "outputs": [],
   "source": [
    "print(\"Arm and Takeoff\")\n",
    "logger.info(\"Arm and Takeoff\")\n",
    "arm_and_takeoff(startingLocation.alt)"
   ]
  },
  {
   "cell_type": "markdown",
   "metadata": {},
   "source": [
    "Start the mission by calling the startMission() function\n",
    "\n",
    "After completion of mission RTL (Return to Launch)"
   ]
  },
  {
   "cell_type": "code",
   "execution_count": null,
   "metadata": {},
   "outputs": [],
   "source": [
    "print(\"Starting mission\")\n",
    "logger.info(\"Starting mission\")\n",
    "\n",
    "startMission(startingLocation)\n",
    "\n",
    "\n",
    "print('Return to launch')\n",
    "logger.critical(\"Return to launch\")\n",
    "while (vehicle.mode.name != \"RTL\"):\n",
    "        vehicle.mode = VehicleMode(\"RTL\")\n",
    "        time.sleep(0.1)\n"
   ]
  },
  {
   "cell_type": "markdown",
   "metadata": {},
   "source": [
    "Close vehicle object before exiting script\n"
   ]
  },
  {
   "cell_type": "code",
   "execution_count": null,
   "metadata": {},
   "outputs": [],
   "source": [
    "print(\"Close vehicle object\")\n",
    "logger.info(\"Close vehicle object\")\n",
    "vehicle.close()\n"
   ]
  },
  {
   "cell_type": "markdown",
   "metadata": {},
   "source": [
    "Shut down simulator."
   ]
  },
  {
   "cell_type": "code",
   "execution_count": null,
   "metadata": {},
   "outputs": [],
   "source": [
    "if sitl is not None:\n",
    "    sitl.stop()\n",
    "print(\"Completed...\")\n",
    "logger.info(\"Completed...\")"
   ]
  }
 ],
 "metadata": {
  "kernelspec": {
   "display_name": "Python 2",
   "language": "python",
   "name": "python2"
  },
  "language_info": {
   "codemirror_mode": {
    "name": "ipython",
    "version": 2
   },
   "file_extension": ".py",
   "mimetype": "text/x-python",
   "name": "python",
   "nbconvert_exporter": "python",
   "pygments_lexer": "ipython2",
   "version": "2.7.12"
  }
 },
 "nbformat": 4,
 "nbformat_minor": 2
}
