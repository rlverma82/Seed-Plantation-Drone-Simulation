{
 "cells": [
  {
   "cell_type": "markdown",
   "metadata": {},
   "source": [
    "# Documentation for Drone_Auto.py"
   ]
  },
  {
   "cell_type": "markdown",
   "metadata": {},
   "source": [
    "## Importing header files"
   ]
  },
  {
   "cell_type": "code",
   "execution_count": null,
   "metadata": {},
   "outputs": [],
   "source": [
    "from __future__ import print_function\n",
    "from dronekit import connect, Command, VehicleMode, LocationGlobalRelative\n",
    "from pymavlink import mavutil\n",
    "import os\n",
    "import json, urllib, math\n",
    "import time\n",
    "import logging , logging.handlers"
   ]
  },
  {
   "cell_type": "markdown",
   "metadata": {},
   "source": [
    "## Logging configuration:"
   ]
  },
  {
   "cell_type": "code",
   "execution_count": null,
   "metadata": {},
   "outputs": [],
   "source": [
    "logging.basicConfig(filename = \"Master.log\" , level = logging.DEBUG , format = \"%(levelname)s: %(filename)s: %(module)s: %(funcName)s: %(lineno)d: \t\t\t%(message)s\")\n",
    "logger = logging.getLogger(__name__)\n",
    "logger.setLevel(logging.DEBUG)\n",
    "logFile_handler = logging.FileHandler(\"drone_seed.log\")\n",
    "logFile_handler.setLevel(logging.DEBUG)\n",
    "logFile_streamHandler = logging.StreamHandler()\n",
    "logFile_streamHandler.setLevel(logging.ERROR)\n",
    "logging_formatter = logging.Formatter(\"%(levelname)s: %(filename)s: %(module)s: %(funcName)s: %(lineno)d: \t\t\t%(message)s\")\n",
    "logFile_handler.setFormatter(logging_formatter)\n",
    "logFile_streamHandler.setFormatter(logging_formatter)\n",
    "logger.addHandler(logFile_handler)\n",
    "logger.addHandler(logFile_streamHandler)"
   ]
  },
  {
   "cell_type": "markdown",
   "metadata": {},
   "source": [
    "# Functions Used:"
   ]
  },
  {
   "cell_type": "markdown",
   "metadata": {},
   "source": [
    "## 1. get_distance_metres(aLocation1, aLocation2):\n",
    "Returns the ground distance in metres between two LocationGlobal objects.\n",
    "This method is an approximation, and will not be accurate over large distances and close to the earth's poles.\n",
    "Reference:https://github.com/diydrones/ardupilot/blob/master/Tools/autotest/common.py"
   ]
  },
  {
   "cell_type": "code",
   "execution_count": null,
   "metadata": {},
   "outputs": [],
   "source": [
    "def get_distance_metres(aLocation1, aLocation2):\n",
    "\tdlat = aLocation2.lat - aLocation1.lat\n",
    "\tdlong = aLocation2.lon - aLocation1.lon\n",
    "\treturn math.sqrt((dlat*dlat) + (dlong*dlong)) * 1.113195e5"
   ]
  },
  {
   "cell_type": "markdown",
   "metadata": {},
   "source": [
    "## 2. distance_to_current_waypoint():\n",
    "Gets distance in metres to the current waypoint.\n",
    "It returns None for the first waypoint (Home location)."
   ]
  },
  {
   "cell_type": "code",
   "execution_count": null,
   "metadata": {},
   "outputs": [],
   "source": [
    "def distance_to_current_waypoint():\n",
    "\tnextwaypoint = vehicle.commands.next\n",
    "\tif nextwaypoint==0:\n",
    "\t\treturn None\n",
    "\tmissionitem=vehicle.commands[nextwaypoint-1] #commands are zero indexed\n",
    "\tlat = missionitem.x\n",
    "\tlon = missionitem.y\n",
    "\talt = missionitem.z\n",
    "\ttargetWaypointLocation = LocationGlobalRelative(lat,lon,alt)\n",
    "\tdistancetopoint = get_distance_metres(vehicle.location.global_frame, targetWaypointLocation)\n",
    "\treturn distancetopoint"
   ]
  },
  {
   "cell_type": "markdown",
   "metadata": {},
   "source": [
    "## 3. arm_and_takeoff(aTargetAltitude):\n",
    "Arms vehicle and fly to a target altitude.\n",
    "Don't try to arm until autopilot is ready."
   ]
  },
  {
   "cell_type": "code",
   "execution_count": null,
   "metadata": {},
   "outputs": [],
   "source": [
    "while not vehicle.is_armable:\n",
    "\t\tlogger.warning(\" Waiting for vehicle to initialise...\")\n",
    "\t\ttime.sleep(1)"
   ]
  },
  {
   "cell_type": "markdown",
   "metadata": {},
   "source": [
    "Set mode to GUIDED for arming and takeoff:"
   ]
  },
  {
   "cell_type": "code",
   "execution_count": null,
   "metadata": {},
   "outputs": [],
   "source": [
    "while (vehicle.mode.name != \"GUIDED\"):\n",
    "\t\tvehicle.mode = VehicleMode(\"GUIDED\")\n",
    "\t\ttime.sleep(0.1)"
   ]
  },
  {
   "cell_type": "markdown",
   "metadata": {},
   "source": [
    "Confirm vehicle armed before attempting to take off"
   ]
  },
  {
   "cell_type": "code",
   "execution_count": null,
   "metadata": {},
   "outputs": [],
   "source": [
    "while not vehicle.armed:\n",
    "\t\tvehicle.armed = True\n",
    "\t\tlogger.warning(\" Waiting for arming...\")\n",
    "\t\ttime.sleep(1)\n",
    "\tprint(\" Taking off!\")\n",
    "\tlogger.info(\"Taking off!\")\n",
    "\tvehicle.simple_takeoff(aTargetAltitude) # Take off to target altitude"
   ]
  },
  {
   "cell_type": "markdown",
   "metadata": {},
   "source": [
    "Wait until the vehicle reaches a safe height before allowing next command to process."
   ]
  },
  {
   "cell_type": "code",
   "execution_count": null,
   "metadata": {},
   "outputs": [],
   "source": [
    "while True:\n",
    "\t\trequiredAlt = aTargetAltitude*0.95\n",
    "\t\t#Break and return from function just below target altitude.\n",
    "\t\tif vehicle.location.global_relative_frame.alt>=requiredAlt:\n",
    "\t\t\tprint(\" Reached target altitude of ~%f\" % (aTargetAltitude))\n",
    "\t\t\tlogger.info(\" Reached target altitude of ~%f\" % (aTargetAltitude))\n",
    "\t\t\tbreak\n",
    "\t\tlogger.info(\" Altitude: %f < %f\" % (vehicle.location.global_relative_frame.alt,requiredAlt))\n",
    "\t\ttime.sleep(1)"
   ]
  },
  {
   "cell_type": "markdown",
   "metadata": {},
   "source": [
    "## 4. print_vechicle_attributes():\n",
    "This function list all the attributes of the vechicle and stores it in log file"
   ]
  },
  {
   "cell_type": "code",
   "execution_count": null,
   "metadata": {},
   "outputs": [],
   "source": [
    "def print_vechicle_attributes():\n",
    "\tlogger.info(\"Autopilot Firmware version: %s\" % vehicle.version)\n",
    "\tlogger.info(\"Autopilot capabilities (supports ftp): %s\" % vehicle.capabilities.ftp)\n",
    "\tlogger.info(\"Global Location:INFO:__main__: Key:BATT_CURR_PIN Value:12.0 %s\" % vehicle.location.global_frame)\n",
    "\tlogger.info(\"Global Location (relative altitude): %s\" % vehicle.location.global_relative_frame)\n",
    "\tlogger.info(\"Local Location: %s\" % vehicle.location.local_frame)\n",
    "\tlogger.info(\"Attitude: %s\" % vehicle.attitude)\n",
    "\tlogger.info(\"Velocity: %s\" % vehicle.velocity)\n",
    "\tlogger.info(\"GPS: %s\" % vehicle.gps_0)\n",
    "\tlogger.info(\"Groundspeed: %s\" % vehicle.groundspeed)\n",
    "\tlogger.info(\"Airspeed: %sINFO:__main__:Distance to waypoint (2): 50.5458561177\" % vehicle.airspeed)\n",
    "\tlogger.info(\"Gimbal status: %s\" % vehicle.gimbal)\n",
    "\tlogger.info(\"Battery: %s\" % vehicle.battery)\n",
    "\tlogger.info(\"EKF OK?: %s\" % vehicle.ekf_ok)\n",
    "\tlogger.info(\"Last Heartbeat: %s\" % vehicle.last_heartbeat)\n",
    "\tlogger.info(\"Rangefinder: %s\" % vehicle.rangefinder)\n",
    "\tlogger.info(\"Rangefinder distance: %s\" % vehicle.rangefinder.distance)\n",
    "\tlogger.info(\"Rangefinder voltage: %s\" % vehicle.rangefinder.voltage)\n",
    "\tlogger.info(\"Heading: %s\" % vehicle.heading)\n",
    "\tlogger.info(\"Is Armable?: %s\" % vehicle.is_armable)\n",
    "\tlogger.info(\"System status: %s\" % vehicle.system_status.state)\n",
    "\tlogger.info(\"Mode: %s\" % vehicle.mode.name)\n",
    "\tlogger.info(\"Armed: %s\" % vehicle.armed)"
   ]
  },
  {
   "cell_type": "markdown",
   "metadata": {},
   "source": [
    "## 5. print_vechicle_parameters():\n",
    "This function list all the parameters of the vechicle and stores it in log file."
   ]
  },
  {
   "cell_type": "code",
   "execution_count": null,
   "metadata": {},
   "outputs": [],
   "source": [
    "def print_vechicle_parameters():\n",
    "\tlogger.info (\"Print all parameters (`vehicle.parameters`):\")\n",
    "\tfor key, value in vehicle.parameters.iteritems():\n",
    "\t\tlogger.info (\" Key:%s Value:%s\" % (key,value))"
   ]
  },
  {
   "cell_type": "markdown",
   "metadata": {},
   "source": [
    "# Main Body :"
   ]
  },
  {
   "cell_type": "code",
   "execution_count": null,
   "metadata": {},
   "outputs": [],
   "source": [
    "start_lat = 0.0\t\t#latitute variable\n",
    "start_lon = 0.0\t\t#longitude variable\n",
    "start_alt = 0.0\t\t#altitude variable\n",
    "waypoint_file = \"\"\t#stores the waypoint file name"
   ]
  },
  {
   "cell_type": "markdown",
   "metadata": {},
   "source": [
    "Takes the lattitude, longitude and altitude value from USER"
   ]
  },
  {
   "cell_type": "code",
   "execution_count": null,
   "metadata": {},
   "outputs": [],
   "source": [
    "while True:\n",
    "\ttry:\n",
    "\t\tstart_lat = float(input(\"Please enter the latitute of centre:\\n\"))\n",
    "\t\tlogger.debug(\"USER entered latitute value: %s\",str(start_lat))\n",
    "\t\tif(start_lat<0 or start_lat>90):\n",
    "\t\t\tprint(\"Latitude value must be between 0 and 90\")\n",
    "\t\t\tcontinue\n",
    "\t\tstart_lon = float(input(\"Please enter the longitude of centre:\\n\"))\n",
    "\t\tlogger.debug(\"USER entered longitude value: %s\",str(start_lon))\n",
    "\t\tif(start_lon<0 or start_lon>180):\n",
    "\t\t\tprint(\"Langitude value must be between 0 and 180\")\n",
    "\t\t\tcontinue\n",
    "\t\tstart_alt = float(input(\"Please enter the altitude for the drone:\\n\"))\n",
    "\t\tlogger.debug(\"USER entered altitude value: %s\",str(start_alt))\n",
    "\t\tif(start_alt<0):\n",
    "\t\t\tprint(\"Altitude value must be positive\")\n",
    "\t\t\tcontinue\n",
    "\t\tbreak\n",
    "\texcept:\n",
    "\t\tlogger.error(\"Oops!  That was no valid lat/lon or altitude.  Try again...\")"
   ]
  },
  {
   "cell_type": "markdown",
   "metadata": {},
   "source": [
    "Takes the waypoint file name from USER"
   ]
  },
  {
   "cell_type": "code",
   "execution_count": null,
   "metadata": {},
   "outputs": [],
   "source": [
    "while True:\n",
    "\twaypoint_file = raw_input(\"Enter the waypoint file name with extension:\\n\")\n",
    "\tif os.path.exists(waypoint_file):\n",
    "\t\tbreak\n",
    "\telse:\n",
    "\t\tprint(\"Enter file does not exists. Please re enter correct file\")\n",
    "\t\tlogger.error(\"Enter file does not exists.\")\n",
    "\t\tcontinue"
   ]
  },
  {
   "cell_type": "markdown",
   "metadata": {},
   "source": [
    "Set up option parsing to get connection string"
   ]
  },
  {
   "cell_type": "code",
   "execution_count": null,
   "metadata": {},
   "outputs": [],
   "source": [
    "import argparse\n",
    "parser = argparse.ArgumentParser(description='Demonstrates Seed Plantation Mission.')\n",
    "parser.add_argument('--connect', help=\"vehicle connection target string. If not specified, SITL automatically started and used.\")\n",
    "args = parser.parse_args()\n",
    "connection_string = args.connect\n",
    "sitl = None"
   ]
  },
  {
   "cell_type": "markdown",
   "metadata": {},
   "source": [
    "Start SITL if no connection string specified"
   ]
  },
  {
   "cell_type": "code",
   "execution_count": null,
   "metadata": {},
   "outputs": [],
   "source": [
    "if not connection_string:\n",
    "\timport dronekit_sitl\n",
    "\tsitl = dronekit_sitl.start_default(lat=start_lat,lon=start_lon)\n",
    "\tconnection_string = sitl.connection_string()"
   ]
  },
  {
   "cell_type": "markdown",
   "metadata": {},
   "source": [
    "Connect to the Vehicle"
   ]
  },
  {
   "cell_type": "code",
   "execution_count": null,
   "metadata": {},
   "outputs": [],
   "source": [
    "print('Connecting to vehicle on: %s' % connection_string)\n",
    "logger.info('Connecting to vehicle on: %s' % connection_string)\n",
    "vehicle = connect(connection_string, wait_ready=True)"
   ]
  },
  {
   "cell_type": "markdown",
   "metadata": {},
   "source": [
    "log vechicle attributes:"
   ]
  },
  {
   "cell_type": "code",
   "execution_count": null,
   "metadata": {},
   "outputs": [],
   "source": [
    "print_vechicle_attributes()"
   ]
  },
  {
   "cell_type": "markdown",
   "metadata": {},
   "source": [
    "log vechicle parameters:"
   ]
  },
  {
   "cell_type": "code",
   "execution_count": null,
   "metadata": {},
   "outputs": [],
   "source": [
    "print_vechicle_parameters()"
   ]
  },
  {
   "cell_type": "markdown",
   "metadata": {},
   "source": [
    "Now download the vehicle waypoints"
   ]
  },
  {
   "cell_type": "code",
   "execution_count": null,
   "metadata": {},
   "outputs": [],
   "source": [
    "cmds = vehicle.commands\n",
    "cmds.wait_ready()\n",
    "cmds = vehicle.commands\n",
    "cmds.clear()\n",
    "line_count = 0    #Variable that keep track of total commands"
   ]
  },
  {
   "cell_type": "markdown",
   "metadata": {},
   "source": [
    "Add command for starting location:"
   ]
  },
  {
   "cell_type": "code",
   "execution_count": null,
   "metadata": {},
   "outputs": [],
   "source": [
    "cmd = Command( 0,0,0,mavutil.mavlink.MAV_FRAME_GLOBAL_RELATIVE_ALT,mavutil.mavlink.MAV_CMD_NAV_WAYPOINT,0, 0, 0, 0, 0, 0,start_lat, start_lon,start_alt)\n",
    "cmds.add(cmd)"
   ]
  },
  {
   "cell_type": "markdown",
   "metadata": {},
   "source": [
    "Add command for all waypoints:"
   ]
  },
  {
   "cell_type": "code",
   "execution_count": null,
   "metadata": {},
   "outputs": [],
   "source": [
    "with open(waypoint_file,\"r\") as way_p:\n",
    "\tfor pt in way_p:\n",
    "\t\tcurrent_line = pt.split(\",\")\n",
    "\t\tline_count +=1\n",
    "\t\tlat = float(current_line[0])\n",
    "\t\tlon = float(current_line[1])\n",
    "\t\tlogger.debug (\"Point: %f %f\" %(lat, lon))\n",
    "\t\tcmd = Command( 0,0,0,mavutil.mavlink.MAV_FRAME_GLOBAL_RELATIVE_ALT,mavutil.mavlink.MAV_CMD_NAV_WAYPOINT,0, 0, 5, 0, 0, 0,lat, lon, start_alt)\n",
    "\t\tcmds.add(cmd)\n",
    "way_p.close()"
   ]
  },
  {
   "cell_type": "markdown",
   "metadata": {},
   "source": [
    "Before the line way_p.close() add the codes/ mechanism for dropping seed that depends on hardware."
   ]
  },
  {
   "cell_type": "markdown",
   "metadata": {},
   "source": [
    "Add command for returing to base:"
   ]
  },
  {
   "cell_type": "code",
   "execution_count": null,
   "metadata": {},
   "outputs": [],
   "source": [
    "cmd = Command( 0,0,0,mavutil.mavlink.MAV_FRAME_GLOBAL_RELATIVE_ALT,mavutil.mavlink.MAV_CMD_NAV_WAYPOINT,0, 0, 0, 0, 0, 0,start_lat, start_lon,start_alt)\n",
    "cmds.add(cmd)"
   ]
  },
  {
   "cell_type": "markdown",
   "metadata": {},
   "source": [
    "Upload clear message and command messages to vehicle."
   ]
  },
  {
   "cell_type": "code",
   "execution_count": null,
   "metadata": {},
   "outputs": [],
   "source": [
    "print(\"Uploading waypoints to vehicle...\" )\n",
    "logger.info(\"Uploading waypoints to vehicle...\")\n",
    "cmds.upload()\n",
    "print(\"Arm and Takeoff\")\n",
    "logger.info(\"Arm and Takeoff\")\n",
    "arm_and_takeoff(start_alt)\n",
    "\n",
    "print(\"Starting mission\")\n",
    "logger.info(\"Starting mission\")"
   ]
  },
  {
   "cell_type": "markdown",
   "metadata": {},
   "source": [
    "Reset mission set to first (0) waypoint"
   ]
  },
  {
   "cell_type": "code",
   "execution_count": null,
   "metadata": {},
   "outputs": [],
   "source": [
    "vehicle.commands.next=0"
   ]
  },
  {
   "cell_type": "markdown",
   "metadata": {},
   "source": [
    "Set mode to AUTO to start mission:"
   ]
  },
  {
   "cell_type": "code",
   "execution_count": null,
   "metadata": {},
   "outputs": [],
   "source": [
    "while (vehicle.mode.name != \"AUTO\"):\n",
    "    vehicle.mode = VehicleMode(\"AUTO\")\n",
    "    time.sleep(0.1)"
   ]
  },
  {
   "cell_type": "markdown",
   "metadata": {},
   "source": [
    "Monitor mission then RTL (Return to launch) and quit:"
   ]
  },
  {
   "cell_type": "code",
   "execution_count": null,
   "metadata": {},
   "outputs": [],
   "source": [
    "while True:\n",
    "\tnextwaypoint=vehicle.commands.next\n",
    "\tprint('Distance to waypoint (%s): %s' % (nextwaypoint, distance_to_current_waypoint()))\n",
    "\tlogger.info('Distance to waypoint (%s): %s' % (nextwaypoint, distance_to_current_waypoint()))\n",
    "\tif distance_to_current_waypoint()<1.5:\n",
    "\t\tprint(\"Dropping Seed\")\n",
    "\t\tlogger.critical(\"Dropping Seed\")\n",
    "\tif nextwaypoint==line_count+1:\n",
    "\t\tprint(\"Exit 'standard' mission when start heading to final waypoint or start location\")\n",
    "\t\tlogger.info(\"Exit 'standard' mission when start heading to final waypoint or start location\")\n",
    "\t\tbreak;\n",
    "\ttime.sleep(1)\n",
    "\n",
    "print('Return to launch')\n",
    "logger.critical(\"Return to launch\")\n",
    "while (vehicle.mode.name != \"RTL\"):\n",
    "\tvehicle.mode = VehicleMode(\"RTL\")\n",
    "\ttime.sleep(0.1)"
   ]
  },
  {
   "cell_type": "markdown",
   "metadata": {},
   "source": [
    "Close vehicle object before exiting script"
   ]
  },
  {
   "cell_type": "code",
   "execution_count": null,
   "metadata": {},
   "outputs": [],
   "source": [
    "print(\"Close vehicle object\")\n",
    "logger.info(\"Close vehicle object\")\n",
    "vehicle.close()"
   ]
  },
  {
   "cell_type": "markdown",
   "metadata": {},
   "source": [
    "Shut down simulator if it was started."
   ]
  },
  {
   "cell_type": "code",
   "execution_count": null,
   "metadata": {},
   "outputs": [],
   "source": [
    "if sitl is not None:\n",
    "\tsitl.stop()\n",
    "print(\"Completed...\")\n",
    "logger.info(\"Completed...\")"
   ]
  },
  {
   "cell_type": "markdown",
   "metadata": {},
   "source": [
    "sample input:\n",
    "\n",
    "10.0\n",
    "\n",
    "10.0\n",
    "\n",
    "30.0\n",
    "\n",
    "waypoint_square.txt"
   ]
  },
  {
   "cell_type": "markdown",
   "metadata": {},
   "source": [
    "Sample Output:-\n"
   ]
  }
 ],
 "metadata": {
  "kernelspec": {
   "display_name": "Python 3",
   "language": "python",
   "name": "python3"
  },
  "language_info": {
   "codemirror_mode": {
    "name": "ipython",
    "version": 3
   },
   "file_extension": ".py",
   "mimetype": "text/x-python",
   "name": "python",
   "nbconvert_exporter": "python",
   "pygments_lexer": "ipython3",
   "version": "3.7.3"
  }
 },
 "nbformat": 4,
 "nbformat_minor": 2
}
