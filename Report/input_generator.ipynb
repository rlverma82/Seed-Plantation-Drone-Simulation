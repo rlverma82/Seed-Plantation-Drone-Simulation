{
 "cells": [
  {
   "cell_type": "markdown",
   "metadata": {},
   "source": [
    "# input_generator.py\n",
    "\n",
    "This is a python script used to get the latitude and longitude of the corner points of the field  when user knows the distance of each point with respect to one reference point. (Ref Point lat/long must be known)"
   ]
  },
  {
   "cell_type": "markdown",
   "metadata": {},
   "source": [
    "### importing headers"
   ]
  },
  {
   "cell_type": "code",
   "execution_count": 1,
   "metadata": {},
   "outputs": [],
   "source": [
    "from __future__ import print_function\n",
    "import math"
   ]
  },
  {
   "cell_type": "markdown",
   "metadata": {},
   "source": [
    "### Custom Class for taking lat/lon points\n",
    "\n",
    "POINT class takes two parameters x and y and save then as lon and lat variables of the class object.\n"
   ]
  },
  {
   "cell_type": "code",
   "execution_count": 2,
   "metadata": {},
   "outputs": [],
   "source": [
    "class POINT:\n",
    "\tdef __init__(self,x,y):\n",
    "\t\tself.lat = x\n",
    "\t\tself.lon = y"
   ]
  },
  {
   "cell_type": "markdown",
   "metadata": {},
   "source": [
    "## Functions used: "
   ]
  },
  {
   "cell_type": "markdown",
   "metadata": {},
   "source": [
    "### 1. def get_location_metres(original_location, dNorth, dEast)\n",
    "\n",
    "Returns a POINT object containing the latitude/longitude dNorth and dEast metres from the specified original_location. The function is useful when you want to move the vehicle around specifying locations relative to the current vehicle position. This function is relatively accurate over small distances (10m within 1km) except close to the poles.\n",
    "\n",
    "Reference: http://gis.stackexchange.com/questions/2951/algorithm-for-offsetting-a-latitude-longitude-by-some-amount-of-meters\n",
    "\n"
   ]
  },
  {
   "cell_type": "code",
   "execution_count": 3,
   "metadata": {},
   "outputs": [],
   "source": [
    "def get_location_metres(original_location, dNorth, dEast):\n",
    "    \n",
    "\t#Radius of \"spherical\" earth\n",
    "\tearth_radius=6378137.0\n",
    "\n",
    "\t#Coordinate offsets in radians\n",
    "\tdLat = dNorth/earth_radius\n",
    "\tdLon = dEast/(earth_radius*math.cos(math.pi*original_location.lat/180))\n",
    "\n",
    "\t#New position in decimal degrees\n",
    "\tnewlat = original_location.lat + (dLat * 180/math.pi)\n",
    "\tnewlon = original_location.lon + (dLon * 180/math.pi)\n",
    "\tnew_location = POINT(newlat,newlon)\n",
    "\treturn new_location"
   ]
  },
  {
   "cell_type": "markdown",
   "metadata": {},
   "source": [
    "### 2. def get_distance_metres(aLocation1, aLocation2)\n",
    "\n",
    "Returns the ground distance in metres between two POINT class objects. \n",
    "This method is an approximation, and will not be accurate over large distances and close to the earth's poles. \n",
    "\n",
    " Reference: https://github.com/diydrones/ardupilot/blob/master/Tools/autotest/common.py\n",
    " "
   ]
  },
  {
   "cell_type": "code",
   "execution_count": 4,
   "metadata": {},
   "outputs": [],
   "source": [
    "def get_distance_metres(aLocation1, aLocation2):\n",
    "\n",
    "\tdlat = aLocation2.lat - aLocation1.lat\n",
    "\tdlong = aLocation2.lon - aLocation1.lon\n",
    "\treturn math.sqrt((dlat*dlat) + (dlong*dlong)) * 1.113195e5"
   ]
  },
  {
   "cell_type": "markdown",
   "metadata": {},
   "source": [
    "## Main Body: "
   ]
  },
  {
   "cell_type": "markdown",
   "metadata": {},
   "source": [
    "#### Taking user input for land info:\n",
    "User enters the latitude and longitude of the reference point of the land under consideration. We further check if the values entered is valid or not."
   ]
  },
  {
   "cell_type": "code",
   "execution_count": 5,
   "metadata": {},
   "outputs": [
    {
     "name": "stdout",
     "output_type": "stream",
     "text": [
      "   This code generates the input lat long values \n",
      "\n",
      "Please enter the geo location of the reference point of your field: \n",
      "\n",
      "Please enter the latitute of point:\n",
      "10.0\n",
      "Please enter the longitude of point:\n",
      "10.0\n"
     ]
    }
   ],
   "source": [
    "print(\"   This code generates the input lat long values \\n\")\n",
    "print(\"Please enter the geo location of the reference point of your field: \\n\")\n",
    "in_lat = 0.0\n",
    "in_lon = 0.0\n",
    "while True:\n",
    "\ttry:\n",
    "\t\tin_lat = float(input(\"Please enter the latitute of point:\\n\"))\n",
    "\t\tif(in_lat<0 or in_lat>90):\n",
    "\t\t\tprint(\"Latitude value must be between 0 and 90\")\n",
    "\t\t\tcontinue\n",
    "\t\tin_lon = float(input(\"Please enter the longitude of point:\\n\"))\n",
    "\t\tif(in_lon<0 or in_lon>180):\n",
    "\t\t\tprint(\"Langitude value must be between 0 and 180\")\n",
    "\t\t\tcontinue\n",
    "\t\tbreak\n",
    "\texcept:\n",
    "\t\tprint(\"Oops!  That was no valid lat/lon.  Try again...\")"
   ]
  },
  {
   "cell_type": "markdown",
   "metadata": {},
   "source": [
    "Create out custom POINT object for input:"
   ]
  },
  {
   "cell_type": "code",
   "execution_count": 6,
   "metadata": {},
   "outputs": [],
   "source": [
    "first_point = POINT(in_lat,in_lon)"
   ]
  },
  {
   "cell_type": "markdown",
   "metadata": {},
   "source": [
    "Create a input.txt file to store all the calculated points.\n",
    "\n",
    "Store the first point taken from user in file."
   ]
  },
  {
   "cell_type": "code",
   "execution_count": 7,
   "metadata": {},
   "outputs": [],
   "source": [
    "input_file = open(\"input.txt\",\"w+\")\n",
    "input_file.write(str(first_point.lat) + \",\" + str(first_point.lon) + '\\n')"
   ]
  },
  {
   "cell_type": "markdown",
   "metadata": {},
   "source": [
    "#### Taking user input for number of points to be generated:\n"
   ]
  },
  {
   "cell_type": "code",
   "execution_count": 8,
   "metadata": {},
   "outputs": [
    {
     "name": "stdout",
     "output_type": "stream",
     "text": [
      "Please enter the more number of point to generate:\n",
      "5\n"
     ]
    }
   ],
   "source": [
    "number_of_points = int(input(\"Please enter the more number of point to generate:\\n\"))"
   ]
  },
  {
   "cell_type": "markdown",
   "metadata": {},
   "source": [
    "#### User inputs the distance of each point from reference point\n",
    "\n",
    "User inputs the each corner point distance in form of (NORTH,EAST)\n",
    "i.e. if next point is 10 m north and 20 m east of initial reference , user enters 10 20 when asked. "
   ]
  },
  {
   "cell_type": "code",
   "execution_count": 9,
   "metadata": {},
   "outputs": [
    {
     "name": "stdout",
     "output_type": "stream",
     "text": [
      "Enter the next point distance in meter (north,east) from refrence point:\n",
      "\n",
      "North distance to point: -50\n",
      "East distance to point: 50\n",
      "Enter the next point distance in meter (north,east) from refrence point:\n",
      "\n",
      "North distance to point: 0\n",
      "East distance to point: 100\n",
      "Enter the next point distance in meter (north,east) from refrence point:\n",
      "\n",
      "North distance to point: 50\n",
      "East distance to point: 100\n",
      "Enter the next point distance in meter (north,east) from refrence point:\n",
      "\n",
      "North distance to point: 100\n",
      "East distance to point: 50\n",
      "Enter the next point distance in meter (north,east) from refrence point:\n",
      "\n",
      "North distance to point: 50\n",
      "East distance to point: 0\n",
      "All generated points are stored in input.txt.\n",
      "\n"
     ]
    }
   ],
   "source": [
    "for i in range(number_of_points):\n",
    "\tprint(\"Enter the next point distance in meter (north,east) from refrence point:\\n\")\n",
    "\tmove_north = int(input(\"North distance to point: \"))\n",
    "\tmove_east = int(input(\"East distance to point: \"))\n",
    "\tnew_point = get_location_metres(first_point,move_north,move_east)\n",
    "\tinput_file.write(str(new_point.lat) + \",\" + str(new_point.lon) + '\\n')\n",
    "\n",
    "print(\"All generated points are stored in input.txt.\\n\")"
   ]
  }
 ],
 "metadata": {
  "kernelspec": {
   "display_name": "Python 2",
   "language": "python",
   "name": "python2"
  },
  "language_info": {
   "codemirror_mode": {
    "name": "ipython",
    "version": 2
   },
   "file_extension": ".py",
   "mimetype": "text/x-python",
   "name": "python",
   "nbconvert_exporter": "python",
   "pygments_lexer": "ipython2",
   "version": "2.7.12"
  }
 },
 "nbformat": 4,
 "nbformat_minor": 2
}
