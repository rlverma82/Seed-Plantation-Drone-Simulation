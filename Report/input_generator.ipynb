{
 "cells": [
  {
   "cell_type": "markdown",
   "metadata": {},
   "source": [
    "# input_generator.py\n",
    "\n",
    "This is a python script used to get the latitude and longitude of the corner points of the field  when user knows the distance of each point with respect to one reference point. (Ref Point lat/long must be known)"
   ]
  },
  {
   "cell_type": "markdown",
   "metadata": {},
   "source": [
    "### importing headers"
   ]
  },
  {
   "cell_type": "code",
   "execution_count": 1,
   "metadata": {},
   "outputs": [],
   "source": [
    "from __future__ import print_function\n",
    "import math"
   ]
  },
  {
   "cell_type": "markdown",
   "metadata": {},
   "source": [
    "### Custom Class for taking lat/lon points\n",
    "\n",
    "POINT class takes two parameters x and y and save then as lon and lat variables of the class object.\n"
   ]
  },
  {
   "cell_type": "code",
   "execution_count": 2,
   "metadata": {},
   "outputs": [],
   "source": [
    "class POINT:\n",
    "\tdef __init__(self,x,y):\n",
    "\t\tself.lat = x\n",
    "\t\tself.lon = y"
   ]
  },
  {
   "cell_type": "markdown",
   "metadata": {},
   "source": [
    "## Functions used: "
   ]
  },
  {
   "cell_type": "markdown",
   "metadata": {},
   "source": [
    "### 1. calNewGeoLocationNE(initialPOINT, yNORTH, xEAST):\n",
    "\n",
    "This function is used to calculate new GEO Point which is 'y' meters north and 'x' meters east of a Reference point.\n",
    "\n",
    "Knowing the lat/long of reference point and y and x distance , it returns a POINT class object with new location lat/long value.\n",
    "\n",
    "This function is an approximation therefore valid over small distances (1m to 1km). It is not valid when calculating points close to the earth poles.\n",
    "\n"
   ]
  },
  {
   "cell_type": "code",
   "execution_count": 3,
   "metadata": {},
   "outputs": [],
   "source": [
    "def calNewGeoLocationNE(initialPOINT, yNORTH, xEAST):\n",
    "    \n",
    "\t#Radius of earth\n",
    "\tearthRad=6378137.0\n",
    "\n",
    "\t#New point offset calculated in radian\n",
    "\ttempLAT = yNORTH/earthRad\n",
    "\ttempLON = xEAST/(earthRad*math.cos(math.pi*initialPOINT.lat/180))\n",
    "\n",
    "\t#Now calculate the new point in decimal degrees\n",
    "\tfinalLAT = initialPOINT.lat + (tempLAT * 180/math.pi)\n",
    "\tfinalLON = initialPOINT.lon + (tempLON * 180/math.pi)\n",
    "\tfinalLOCATION = POINT(finalLAT,finalLON)\n",
    "\treturn finalLOCATION"
   ]
  },
  {
   "cell_type": "markdown",
   "metadata": {},
   "source": [
    "## Main Body: "
   ]
  },
  {
   "cell_type": "markdown",
   "metadata": {},
   "source": [
    "#### Taking user input for land info:\n",
    "User enters the latitude and longitude of the reference point of the land under consideration. We further check if the values entered is valid or not."
   ]
  },
  {
   "cell_type": "code",
   "execution_count": 5,
   "metadata": {},
   "outputs": [
    {
     "name": "stdout",
     "output_type": "stream",
     "text": [
      "   This code generates the input lat long values \n",
      "\n",
      "Please enter the geo location of the reference point of your field: \n",
      "\n",
      "Please enter the latitute of point:\n",
      "10.0\n",
      "Please enter the longitude of point:\n",
      "10.0\n"
     ]
    }
   ],
   "source": [
    "print(\"   This code generates the input lat long values \\n\")\n",
    "print(\"Please enter the geo location of the reference point of your field: \\n\")\n",
    "in_lat = 0.0\n",
    "in_lon = 0.0\n",
    "while True:\n",
    "\ttry:\n",
    "\t\tin_lat = float(input(\"Please enter the latitute of point:\\n\"))\n",
    "\t\tif(in_lat<0 or in_lat>90):\n",
    "\t\t\tprint(\"Latitude value must be between 0 and 90\")\n",
    "\t\t\tcontinue\n",
    "\t\tin_lon = float(input(\"Please enter the longitude of point:\\n\"))\n",
    "\t\tif(in_lon<0 or in_lon>180):\n",
    "\t\t\tprint(\"Langitude value must be between 0 and 180\")\n",
    "\t\t\tcontinue\n",
    "\t\tbreak\n",
    "\texcept:\n",
    "\t\tprint(\"Oops!  That was no valid lat/lon.  Try again...\")"
   ]
  },
  {
   "cell_type": "markdown",
   "metadata": {},
   "source": [
    "Create out custom POINT object for input:"
   ]
  },
  {
   "cell_type": "code",
   "execution_count": 6,
   "metadata": {},
   "outputs": [],
   "source": [
    "first_point = POINT(in_lat,in_lon)"
   ]
  },
  {
   "cell_type": "markdown",
   "metadata": {},
   "source": [
    "Create a input.txt file to store all the calculated points.\n",
    "\n",
    "Store the first point taken from user in file."
   ]
  },
  {
   "cell_type": "code",
   "execution_count": 7,
   "metadata": {},
   "outputs": [],
   "source": [
    "input_file = open(\"input.txt\",\"w+\")\n",
    "input_file.write(str(first_point.lat) + \",\" + str(first_point.lon) + '\\n')"
   ]
  },
  {
   "cell_type": "markdown",
   "metadata": {},
   "source": [
    "#### Taking user input for number of points to be generated:\n"
   ]
  },
  {
   "cell_type": "code",
   "execution_count": 8,
   "metadata": {},
   "outputs": [
    {
     "name": "stdout",
     "output_type": "stream",
     "text": [
      "Please enter the more number of point to generate:\n",
      "5\n"
     ]
    }
   ],
   "source": [
    "number_of_points = int(input(\"Please enter the more number of point to generate:\\n\"))"
   ]
  },
  {
   "cell_type": "markdown",
   "metadata": {},
   "source": [
    "#### User inputs the distance of each point from reference point\n",
    "\n",
    "User inputs the each corner point distance in form of (NORTH,EAST)\n",
    "i.e. if next point is 10 m north and 20 m east of initial reference , user enters 10 20 when asked. "
   ]
  },
  {
   "cell_type": "code",
   "execution_count": 9,
   "metadata": {},
   "outputs": [
    {
     "name": "stdout",
     "output_type": "stream",
     "text": [
      "Enter the next point distance in meter (north,east) from refrence point:\n",
      "\n",
      "North distance to point: -50\n",
      "East distance to point: 50\n",
      "Enter the next point distance in meter (north,east) from refrence point:\n",
      "\n",
      "North distance to point: 0\n",
      "East distance to point: 100\n",
      "Enter the next point distance in meter (north,east) from refrence point:\n",
      "\n",
      "North distance to point: 50\n",
      "East distance to point: 100\n",
      "Enter the next point distance in meter (north,east) from refrence point:\n",
      "\n",
      "North distance to point: 100\n",
      "East distance to point: 50\n",
      "Enter the next point distance in meter (north,east) from refrence point:\n",
      "\n",
      "North distance to point: 50\n",
      "East distance to point: 0\n",
      "All generated points are stored in input.txt.\n",
      "\n"
     ]
    }
   ],
   "source": [
    "for i in range(number_of_points):\n",
    "\tprint(\"Enter the next point distance in meter (north,east) from refrence point:\\n\")\n",
    "\tmove_north = int(input(\"North distance to point: \"))\n",
    "\tmove_east = int(input(\"East distance to point: \"))\n",
    "\tnew_point = calNewGeoLocationNE(first_point,move_north,move_east)\n",
    "\tinput_file.write(str(new_point.lat) + \",\" + str(new_point.lon) + '\\n')\n",
    "\n",
    "print(\"All generated points are stored in input.txt.\\n\")"
   ]
  }
 ],
 "metadata": {
  "kernelspec": {
   "display_name": "Python 2",
   "language": "python",
   "name": "python2"
  },
  "language_info": {
   "codemirror_mode": {
    "name": "ipython",
    "version": 2
   },
   "file_extension": ".py",
   "mimetype": "text/x-python",
   "name": "python",
   "nbconvert_exporter": "python",
   "pygments_lexer": "ipython2",
   "version": "2.7.12"
  }
 },
 "nbformat": 4,
 "nbformat_minor": 2
}
